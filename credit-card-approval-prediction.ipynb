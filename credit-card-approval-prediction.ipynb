{
 "cells": [
  {
   "cell_type": "markdown",
   "id": "f7a5321c",
   "metadata": {
    "papermill": {
     "duration": 0.011521,
     "end_time": "2024-12-02T20:48:32.336249",
     "exception": false,
     "start_time": "2024-12-02T20:48:32.324728",
     "status": "completed"
    },
    "tags": []
   },
   "source": [
    "# \n",
    "\n",
    "\n",
    "\n",
    "Predicting Credit Card Application Approval\r\n",
    "### **Problem Statement** \r\n",
    "Financial institutions receive numerous credit card applications daily, and efficient, accurate approval processes are crucial for both customer satisfaction and risk management. The dataset in this competition includes anonymized data about applicants, which makes it essential to focus on data exploration and engineering techniques to extract meaningful insights.\r\n",
    "\r\n",
    "### *Our task is to:*\r\n",
    "- Understand the underlying patterns in the dataset.\r\n",
    "- Handle missing and noisy data effectively.\r\n",
    "- Engineer features that improve model performance.\r\n",
    "- Build and evaluate machine learning models to predict application status.\r\n",
    "\r\n",
    "### **Data Overview**\r\n",
    "The dataset is anonymized and contains both numerical and categorical features, along with a target variable (`STATUS`) indicating the application decision. \r\n",
    "\r\n",
    "### **Objectives**\r\n",
    "1. Perform thorough **Exploratory Data Analysis (EDA)** to uncover insights and identify data quality issues.\r\n",
    "2. Implement effective **data preprocessing** techniques to handle missing values and encode categorical features.\r\n",
    "3. Design and test various **machine learning models**, including classical algorithms and gradient boosting frameworks.\r\n",
    "4. Use appropriate evaluation metrics for classification and address class imbalance issues.\r\n",
    "5. Optimize the model pipeline for accuracy and robustness.\r\n",
    "\r\n",
    "### **Approach**\r\n",
    "This notebook is structured to follow a systematic data science workflow:\r\n",
    "1. **Data Exploration**: Gain an understanding of the dataset through visualization and statistical analysis.\r\n",
    "2. **Preprocessing**: Clean and prepare the data for modeling, ensuring no information is leaked.\r\n",
    "3. **Feature Engineering**: Enhance the dataset with new features or transformations to improve model performance.\r\n",
    "4. **Modeling**: Train, test, and evaluate machine learning models to identify the best-performing approach.\r\n",
    "5. **Insights and Conclusions**: Summarize findings, evaluate model effectiveness, and suggest potential improvements.\r\n",
    "\r\n",
    "---\r\n",
    "\r\n",
    "### **Tools and Libraries**\r\n",
    "We will use the following tools and libraries:\r\n",
    "- **Pandas and NumPy**: For data manipulation and analysis.\r\n",
    "- **Matplotlib and Seaborn**: For visualizing data and insights.\r\n",
    "- **Scikit-learn, XGboost,and LightGBM**: For building, training, and evaluating machine learning models.\r\n",
    "- **Imbalanced-learn (SMOTE)**: To handle class imbalance in the dataset.\r\n",
    "\r\n",
    "---\r\n",
    "\r\n",
    "### **Expected Outcomes**\r\n",
    "By the end of this project, we aim to:\r\n",
    "- Develop a high-performing machine learning model that predicts credit card application approval with high accuracy.\r\n",
    "- Understand key factors influencing model predictions, even with anonymized data.\r\n",
    "- Present a structured, reproducible workflow demonstrating strong analytical and modeling skills.\r\n"
   ]
  },
  {
   "cell_type": "markdown",
   "id": "fba49a57",
   "metadata": {
    "papermill": {
     "duration": 0.010709,
     "end_time": "2024-12-02T20:48:32.357208",
     "exception": false,
     "start_time": "2024-12-02T20:48:32.346499",
     "status": "completed"
    },
    "tags": []
   },
   "source": [
    "# 1. Importing libraries"
   ]
  },
  {
   "cell_type": "code",
   "execution_count": 1,
   "id": "16e5dab9",
   "metadata": {
    "papermill": {
     "duration": 4.413906,
     "end_time": "2024-12-02T20:48:36.781247",
     "exception": false,
     "start_time": "2024-12-02T20:48:32.367341",
     "status": "completed"
    },
    "tags": []
   },
   "outputs": [],
   "source": [
    "import mlflow\n",
    "from mlflow.models import infer_signature\n",
    "\n",
    "# Importing libraries for data analysis and manipulation\n",
    "import pandas as pd\n",
    "import numpy as np\n",
    "\n",
    "# Libraries for data visualization\n",
    "import seaborn as sns\n",
    "import matplotlib.pyplot as plt\n",
    "%matplotlib inline\n",
    "\n",
    "# Machine learning libraries\n",
    "from sklearn.preprocessing import LabelEncoder\n",
    "from sklearn.metrics import accuracy_score,classification_report,confusion_matrix,ConfusionMatrixDisplay\n",
    "from sklearn.model_selection import train_test_split\n",
    "from imblearn.over_sampling import SMOTE\n",
    "from sklearn.ensemble import RandomForestClassifier\n",
    "import lightgbm as lgb\n",
    "from xgboost import XGBClassifier\n",
    "from sklearn.ensemble import AdaBoostClassifier\n",
    "from sklearn.naive_bayes import GaussianNB\n",
    "\n",
    "# Warnings\n",
    "import warnings\n",
    "warnings.filterwarnings('ignore')\n"
   ]
  },
  {
   "cell_type": "code",
   "execution_count": 2,
   "id": "dc02169c-2374-4ba8-a7f4-9c6eb4ecdc49",
   "metadata": {},
   "outputs": [
    {
     "data": {
      "text/plain": [
       "<Experiment: artifact_location='mlflow-artifacts:/574652737040527062', creation_time=1734105727567, experiment_id='574652737040527062', last_update_time=1734105727567, lifecycle_stage='active', name='MLflow CC Approval', tags={}>"
      ]
     },
     "execution_count": 2,
     "metadata": {},
     "output_type": "execute_result"
    }
   ],
   "source": [
    "# Set our tracking server uri for logging\n",
    "mlflow.set_tracking_uri(uri=\"http://127.0.0.1:8080\")\n",
    "\n",
    "# Create a new MLflow Experiment\n",
    "mlflow.set_experiment(\"MLflow CC Approval\")"
   ]
  },
  {
   "cell_type": "code",
   "execution_count": 3,
   "id": "26514760",
   "metadata": {
    "papermill": {
     "duration": 1.926046,
     "end_time": "2024-12-02T20:48:38.717904",
     "exception": false,
     "start_time": "2024-12-02T20:48:36.791858",
     "status": "completed"
    },
    "tags": []
   },
   "outputs": [],
   "source": [
    "# Load the dataset\n",
    "features = pd.read_csv(\"./input/application_record.csv\")\n",
    "target = pd.read_csv(\"./input/credit_record.csv\")"
   ]
  },
  {
   "cell_type": "code",
   "execution_count": 4,
   "id": "5265ad28",
   "metadata": {
    "papermill": {
     "duration": 0.093963,
     "end_time": "2024-12-02T20:48:38.832196",
     "exception": false,
     "start_time": "2024-12-02T20:48:38.738233",
     "status": "completed"
    },
    "tags": []
   },
   "outputs": [
    {
     "name": "stdout",
     "output_type": "stream",
     "text": [
      "<class 'pandas.core.frame.DataFrame'>\n",
      "RangeIndex: 1048575 entries, 0 to 1048574\n",
      "Data columns (total 3 columns):\n",
      " #   Column          Non-Null Count    Dtype \n",
      "---  ------          --------------    ----- \n",
      " 0   ID              1048575 non-null  int64 \n",
      " 1   MONTHS_BALANCE  1048575 non-null  int64 \n",
      " 2   STATUS          1048575 non-null  object\n",
      "dtypes: int64(2), object(1)\n",
      "memory usage: 24.0+ MB\n"
     ]
    }
   ],
   "source": [
    "# Check the summary of the Target data\n",
    "target.info()"
   ]
  },
  {
   "cell_type": "code",
   "execution_count": 5,
   "id": "cb281f62",
   "metadata": {
    "papermill": {
     "duration": 0.188428,
     "end_time": "2024-12-02T20:48:39.031212",
     "exception": false,
     "start_time": "2024-12-02T20:48:38.842784",
     "status": "completed"
    },
    "tags": []
   },
   "outputs": [
    {
     "name": "stdout",
     "output_type": "stream",
     "text": [
      "<class 'pandas.core.frame.DataFrame'>\n",
      "RangeIndex: 438557 entries, 0 to 438556\n",
      "Data columns (total 18 columns):\n",
      " #   Column               Non-Null Count   Dtype  \n",
      "---  ------               --------------   -----  \n",
      " 0   ID                   438557 non-null  int64  \n",
      " 1   CODE_GENDER          438557 non-null  object \n",
      " 2   FLAG_OWN_CAR         438557 non-null  object \n",
      " 3   FLAG_OWN_REALTY      438557 non-null  object \n",
      " 4   CNT_CHILDREN         438557 non-null  int64  \n",
      " 5   AMT_INCOME_TOTAL     438557 non-null  float64\n",
      " 6   NAME_INCOME_TYPE     438557 non-null  object \n",
      " 7   NAME_EDUCATION_TYPE  438557 non-null  object \n",
      " 8   NAME_FAMILY_STATUS   438557 non-null  object \n",
      " 9   NAME_HOUSING_TYPE    438557 non-null  object \n",
      " 10  DAYS_BIRTH           438557 non-null  int64  \n",
      " 11  DAYS_EMPLOYED        438557 non-null  int64  \n",
      " 12  FLAG_MOBIL           438557 non-null  int64  \n",
      " 13  FLAG_WORK_PHONE      438557 non-null  int64  \n",
      " 14  FLAG_PHONE           438557 non-null  int64  \n",
      " 15  FLAG_EMAIL           438557 non-null  int64  \n",
      " 16  OCCUPATION_TYPE      304354 non-null  object \n",
      " 17  CNT_FAM_MEMBERS      438557 non-null  float64\n",
      "dtypes: float64(2), int64(8), object(8)\n",
      "memory usage: 60.2+ MB\n"
     ]
    }
   ],
   "source": [
    "# Check the summary of the Features data\n",
    "features.info()"
   ]
  },
  {
   "cell_type": "code",
   "execution_count": 6,
   "id": "62760cb9",
   "metadata": {
    "papermill": {
     "duration": 0.395756,
     "end_time": "2024-12-02T20:48:39.438603",
     "exception": false,
     "start_time": "2024-12-02T20:48:39.042847",
     "status": "completed"
    },
    "tags": []
   },
   "outputs": [],
   "source": [
    "# Merge the target and features datasets on 'ID'\n",
    "data = pd.merge(target, features, on='ID', how='inner')"
   ]
  },
  {
   "cell_type": "code",
   "execution_count": 7,
   "id": "f444e1c4",
   "metadata": {
    "papermill": {
     "duration": 0.038337,
     "end_time": "2024-12-02T20:48:39.487317",
     "exception": false,
     "start_time": "2024-12-02T20:48:39.448980",
     "status": "completed"
    },
    "tags": []
   },
   "outputs": [
    {
     "data": {
      "text/html": [
       "<div>\n",
       "<style scoped>\n",
       "    .dataframe tbody tr th:only-of-type {\n",
       "        vertical-align: middle;\n",
       "    }\n",
       "\n",
       "    .dataframe tbody tr th {\n",
       "        vertical-align: top;\n",
       "    }\n",
       "\n",
       "    .dataframe thead th {\n",
       "        text-align: right;\n",
       "    }\n",
       "</style>\n",
       "<table border=\"1\" class=\"dataframe\">\n",
       "  <thead>\n",
       "    <tr style=\"text-align: right;\">\n",
       "      <th></th>\n",
       "      <th>ID</th>\n",
       "      <th>MONTHS_BALANCE</th>\n",
       "      <th>STATUS</th>\n",
       "      <th>CODE_GENDER</th>\n",
       "      <th>FLAG_OWN_CAR</th>\n",
       "      <th>FLAG_OWN_REALTY</th>\n",
       "      <th>CNT_CHILDREN</th>\n",
       "      <th>AMT_INCOME_TOTAL</th>\n",
       "      <th>NAME_INCOME_TYPE</th>\n",
       "      <th>NAME_EDUCATION_TYPE</th>\n",
       "      <th>NAME_FAMILY_STATUS</th>\n",
       "      <th>NAME_HOUSING_TYPE</th>\n",
       "      <th>DAYS_BIRTH</th>\n",
       "      <th>DAYS_EMPLOYED</th>\n",
       "      <th>FLAG_MOBIL</th>\n",
       "      <th>FLAG_WORK_PHONE</th>\n",
       "      <th>FLAG_PHONE</th>\n",
       "      <th>FLAG_EMAIL</th>\n",
       "      <th>OCCUPATION_TYPE</th>\n",
       "      <th>CNT_FAM_MEMBERS</th>\n",
       "    </tr>\n",
       "  </thead>\n",
       "  <tbody>\n",
       "    <tr>\n",
       "      <th>0</th>\n",
       "      <td>5008804</td>\n",
       "      <td>0</td>\n",
       "      <td>C</td>\n",
       "      <td>M</td>\n",
       "      <td>Y</td>\n",
       "      <td>Y</td>\n",
       "      <td>0</td>\n",
       "      <td>427500.0</td>\n",
       "      <td>Working</td>\n",
       "      <td>Higher education</td>\n",
       "      <td>Civil marriage</td>\n",
       "      <td>Rented apartment</td>\n",
       "      <td>-12005</td>\n",
       "      <td>-4542</td>\n",
       "      <td>1</td>\n",
       "      <td>1</td>\n",
       "      <td>0</td>\n",
       "      <td>0</td>\n",
       "      <td>NaN</td>\n",
       "      <td>2.0</td>\n",
       "    </tr>\n",
       "    <tr>\n",
       "      <th>1</th>\n",
       "      <td>5008804</td>\n",
       "      <td>-1</td>\n",
       "      <td>C</td>\n",
       "      <td>M</td>\n",
       "      <td>Y</td>\n",
       "      <td>Y</td>\n",
       "      <td>0</td>\n",
       "      <td>427500.0</td>\n",
       "      <td>Working</td>\n",
       "      <td>Higher education</td>\n",
       "      <td>Civil marriage</td>\n",
       "      <td>Rented apartment</td>\n",
       "      <td>-12005</td>\n",
       "      <td>-4542</td>\n",
       "      <td>1</td>\n",
       "      <td>1</td>\n",
       "      <td>0</td>\n",
       "      <td>0</td>\n",
       "      <td>NaN</td>\n",
       "      <td>2.0</td>\n",
       "    </tr>\n",
       "    <tr>\n",
       "      <th>2</th>\n",
       "      <td>5008804</td>\n",
       "      <td>-2</td>\n",
       "      <td>C</td>\n",
       "      <td>M</td>\n",
       "      <td>Y</td>\n",
       "      <td>Y</td>\n",
       "      <td>0</td>\n",
       "      <td>427500.0</td>\n",
       "      <td>Working</td>\n",
       "      <td>Higher education</td>\n",
       "      <td>Civil marriage</td>\n",
       "      <td>Rented apartment</td>\n",
       "      <td>-12005</td>\n",
       "      <td>-4542</td>\n",
       "      <td>1</td>\n",
       "      <td>1</td>\n",
       "      <td>0</td>\n",
       "      <td>0</td>\n",
       "      <td>NaN</td>\n",
       "      <td>2.0</td>\n",
       "    </tr>\n",
       "    <tr>\n",
       "      <th>3</th>\n",
       "      <td>5008804</td>\n",
       "      <td>-3</td>\n",
       "      <td>C</td>\n",
       "      <td>M</td>\n",
       "      <td>Y</td>\n",
       "      <td>Y</td>\n",
       "      <td>0</td>\n",
       "      <td>427500.0</td>\n",
       "      <td>Working</td>\n",
       "      <td>Higher education</td>\n",
       "      <td>Civil marriage</td>\n",
       "      <td>Rented apartment</td>\n",
       "      <td>-12005</td>\n",
       "      <td>-4542</td>\n",
       "      <td>1</td>\n",
       "      <td>1</td>\n",
       "      <td>0</td>\n",
       "      <td>0</td>\n",
       "      <td>NaN</td>\n",
       "      <td>2.0</td>\n",
       "    </tr>\n",
       "    <tr>\n",
       "      <th>4</th>\n",
       "      <td>5008804</td>\n",
       "      <td>-4</td>\n",
       "      <td>C</td>\n",
       "      <td>M</td>\n",
       "      <td>Y</td>\n",
       "      <td>Y</td>\n",
       "      <td>0</td>\n",
       "      <td>427500.0</td>\n",
       "      <td>Working</td>\n",
       "      <td>Higher education</td>\n",
       "      <td>Civil marriage</td>\n",
       "      <td>Rented apartment</td>\n",
       "      <td>-12005</td>\n",
       "      <td>-4542</td>\n",
       "      <td>1</td>\n",
       "      <td>1</td>\n",
       "      <td>0</td>\n",
       "      <td>0</td>\n",
       "      <td>NaN</td>\n",
       "      <td>2.0</td>\n",
       "    </tr>\n",
       "  </tbody>\n",
       "</table>\n",
       "</div>"
      ],
      "text/plain": [
       "        ID  MONTHS_BALANCE STATUS CODE_GENDER FLAG_OWN_CAR FLAG_OWN_REALTY  \\\n",
       "0  5008804               0      C           M            Y               Y   \n",
       "1  5008804              -1      C           M            Y               Y   \n",
       "2  5008804              -2      C           M            Y               Y   \n",
       "3  5008804              -3      C           M            Y               Y   \n",
       "4  5008804              -4      C           M            Y               Y   \n",
       "\n",
       "   CNT_CHILDREN  AMT_INCOME_TOTAL NAME_INCOME_TYPE NAME_EDUCATION_TYPE  \\\n",
       "0             0          427500.0          Working    Higher education   \n",
       "1             0          427500.0          Working    Higher education   \n",
       "2             0          427500.0          Working    Higher education   \n",
       "3             0          427500.0          Working    Higher education   \n",
       "4             0          427500.0          Working    Higher education   \n",
       "\n",
       "  NAME_FAMILY_STATUS NAME_HOUSING_TYPE  DAYS_BIRTH  DAYS_EMPLOYED  FLAG_MOBIL  \\\n",
       "0     Civil marriage  Rented apartment      -12005          -4542           1   \n",
       "1     Civil marriage  Rented apartment      -12005          -4542           1   \n",
       "2     Civil marriage  Rented apartment      -12005          -4542           1   \n",
       "3     Civil marriage  Rented apartment      -12005          -4542           1   \n",
       "4     Civil marriage  Rented apartment      -12005          -4542           1   \n",
       "\n",
       "   FLAG_WORK_PHONE  FLAG_PHONE  FLAG_EMAIL OCCUPATION_TYPE  CNT_FAM_MEMBERS  \n",
       "0                1           0           0             NaN              2.0  \n",
       "1                1           0           0             NaN              2.0  \n",
       "2                1           0           0             NaN              2.0  \n",
       "3                1           0           0             NaN              2.0  \n",
       "4                1           0           0             NaN              2.0  "
      ]
     },
     "execution_count": 7,
     "metadata": {},
     "output_type": "execute_result"
    }
   ],
   "source": [
    "# Display the first 5 rows of the merged dataset\n",
    "data.head()"
   ]
  },
  {
   "cell_type": "code",
   "execution_count": 8,
   "id": "686f3278",
   "metadata": {
    "papermill": {
     "duration": 0.349342,
     "end_time": "2024-12-02T20:48:39.847205",
     "exception": false,
     "start_time": "2024-12-02T20:48:39.497863",
     "status": "completed"
    },
    "tags": []
   },
   "outputs": [
    {
     "name": "stdout",
     "output_type": "stream",
     "text": [
      "<class 'pandas.core.frame.DataFrame'>\n",
      "RangeIndex: 777715 entries, 0 to 777714\n",
      "Data columns (total 20 columns):\n",
      " #   Column               Non-Null Count   Dtype  \n",
      "---  ------               --------------   -----  \n",
      " 0   ID                   777715 non-null  int64  \n",
      " 1   MONTHS_BALANCE       777715 non-null  int64  \n",
      " 2   STATUS               777715 non-null  object \n",
      " 3   CODE_GENDER          777715 non-null  object \n",
      " 4   FLAG_OWN_CAR         777715 non-null  object \n",
      " 5   FLAG_OWN_REALTY      777715 non-null  object \n",
      " 6   CNT_CHILDREN         777715 non-null  int64  \n",
      " 7   AMT_INCOME_TOTAL     777715 non-null  float64\n",
      " 8   NAME_INCOME_TYPE     777715 non-null  object \n",
      " 9   NAME_EDUCATION_TYPE  777715 non-null  object \n",
      " 10  NAME_FAMILY_STATUS   777715 non-null  object \n",
      " 11  NAME_HOUSING_TYPE    777715 non-null  object \n",
      " 12  DAYS_BIRTH           777715 non-null  int64  \n",
      " 13  DAYS_EMPLOYED        777715 non-null  int64  \n",
      " 14  FLAG_MOBIL           777715 non-null  int64  \n",
      " 15  FLAG_WORK_PHONE      777715 non-null  int64  \n",
      " 16  FLAG_PHONE           777715 non-null  int64  \n",
      " 17  FLAG_EMAIL           777715 non-null  int64  \n",
      " 18  OCCUPATION_TYPE      537667 non-null  object \n",
      " 19  CNT_FAM_MEMBERS      777715 non-null  float64\n",
      "dtypes: float64(2), int64(9), object(9)\n",
      "memory usage: 118.7+ MB\n"
     ]
    }
   ],
   "source": [
    "# Summary information about the merged dataset\n",
    "data.info()"
   ]
  },
  {
   "cell_type": "code",
   "execution_count": 9,
   "id": "cfb59df0",
   "metadata": {
    "papermill": {
     "duration": 0.284756,
     "end_time": "2024-12-02T20:48:40.142690",
     "exception": false,
     "start_time": "2024-12-02T20:48:39.857934",
     "status": "completed"
    },
    "tags": []
   },
   "outputs": [
    {
     "data": {
      "text/html": [
       "<div>\n",
       "<style scoped>\n",
       "    .dataframe tbody tr th:only-of-type {\n",
       "        vertical-align: middle;\n",
       "    }\n",
       "\n",
       "    .dataframe tbody tr th {\n",
       "        vertical-align: top;\n",
       "    }\n",
       "\n",
       "    .dataframe thead th {\n",
       "        text-align: right;\n",
       "    }\n",
       "</style>\n",
       "<table border=\"1\" class=\"dataframe\">\n",
       "  <thead>\n",
       "    <tr style=\"text-align: right;\">\n",
       "      <th></th>\n",
       "      <th>ID</th>\n",
       "      <th>MONTHS_BALANCE</th>\n",
       "      <th>CNT_CHILDREN</th>\n",
       "      <th>AMT_INCOME_TOTAL</th>\n",
       "      <th>DAYS_BIRTH</th>\n",
       "      <th>DAYS_EMPLOYED</th>\n",
       "      <th>FLAG_MOBIL</th>\n",
       "      <th>FLAG_WORK_PHONE</th>\n",
       "      <th>FLAG_PHONE</th>\n",
       "      <th>FLAG_EMAIL</th>\n",
       "      <th>CNT_FAM_MEMBERS</th>\n",
       "    </tr>\n",
       "  </thead>\n",
       "  <tbody>\n",
       "    <tr>\n",
       "      <th>count</th>\n",
       "      <td>7.777150e+05</td>\n",
       "      <td>777715.000000</td>\n",
       "      <td>777715.000000</td>\n",
       "      <td>7.777150e+05</td>\n",
       "      <td>777715.000000</td>\n",
       "      <td>777715.000000</td>\n",
       "      <td>777715.0</td>\n",
       "      <td>777715.000000</td>\n",
       "      <td>777715.000000</td>\n",
       "      <td>777715.000000</td>\n",
       "      <td>777715.000000</td>\n",
       "    </tr>\n",
       "    <tr>\n",
       "      <th>mean</th>\n",
       "      <td>5.078743e+06</td>\n",
       "      <td>-19.373564</td>\n",
       "      <td>0.428082</td>\n",
       "      <td>1.885348e+05</td>\n",
       "      <td>-16124.937046</td>\n",
       "      <td>57775.825016</td>\n",
       "      <td>1.0</td>\n",
       "      <td>0.231818</td>\n",
       "      <td>0.300965</td>\n",
       "      <td>0.091675</td>\n",
       "      <td>2.208837</td>\n",
       "    </tr>\n",
       "    <tr>\n",
       "      <th>std</th>\n",
       "      <td>4.180442e+04</td>\n",
       "      <td>14.082208</td>\n",
       "      <td>0.745755</td>\n",
       "      <td>1.016225e+05</td>\n",
       "      <td>4104.304018</td>\n",
       "      <td>136471.735391</td>\n",
       "      <td>0.0</td>\n",
       "      <td>0.421993</td>\n",
       "      <td>0.458678</td>\n",
       "      <td>0.288567</td>\n",
       "      <td>0.907380</td>\n",
       "    </tr>\n",
       "    <tr>\n",
       "      <th>min</th>\n",
       "      <td>5.008804e+06</td>\n",
       "      <td>-60.000000</td>\n",
       "      <td>0.000000</td>\n",
       "      <td>2.700000e+04</td>\n",
       "      <td>-25152.000000</td>\n",
       "      <td>-15713.000000</td>\n",
       "      <td>1.0</td>\n",
       "      <td>0.000000</td>\n",
       "      <td>0.000000</td>\n",
       "      <td>0.000000</td>\n",
       "      <td>1.000000</td>\n",
       "    </tr>\n",
       "    <tr>\n",
       "      <th>25%</th>\n",
       "      <td>5.044568e+06</td>\n",
       "      <td>-29.000000</td>\n",
       "      <td>0.000000</td>\n",
       "      <td>1.215000e+05</td>\n",
       "      <td>-19453.000000</td>\n",
       "      <td>-3292.000000</td>\n",
       "      <td>1.0</td>\n",
       "      <td>0.000000</td>\n",
       "      <td>0.000000</td>\n",
       "      <td>0.000000</td>\n",
       "      <td>2.000000</td>\n",
       "    </tr>\n",
       "    <tr>\n",
       "      <th>50%</th>\n",
       "      <td>5.069530e+06</td>\n",
       "      <td>-17.000000</td>\n",
       "      <td>0.000000</td>\n",
       "      <td>1.620000e+05</td>\n",
       "      <td>-15760.000000</td>\n",
       "      <td>-1682.000000</td>\n",
       "      <td>1.0</td>\n",
       "      <td>0.000000</td>\n",
       "      <td>0.000000</td>\n",
       "      <td>0.000000</td>\n",
       "      <td>2.000000</td>\n",
       "    </tr>\n",
       "    <tr>\n",
       "      <th>75%</th>\n",
       "      <td>5.115551e+06</td>\n",
       "      <td>-8.000000</td>\n",
       "      <td>1.000000</td>\n",
       "      <td>2.250000e+05</td>\n",
       "      <td>-12716.000000</td>\n",
       "      <td>-431.000000</td>\n",
       "      <td>1.0</td>\n",
       "      <td>0.000000</td>\n",
       "      <td>1.000000</td>\n",
       "      <td>0.000000</td>\n",
       "      <td>3.000000</td>\n",
       "    </tr>\n",
       "    <tr>\n",
       "      <th>max</th>\n",
       "      <td>5.150487e+06</td>\n",
       "      <td>0.000000</td>\n",
       "      <td>19.000000</td>\n",
       "      <td>1.575000e+06</td>\n",
       "      <td>-7489.000000</td>\n",
       "      <td>365243.000000</td>\n",
       "      <td>1.0</td>\n",
       "      <td>1.000000</td>\n",
       "      <td>1.000000</td>\n",
       "      <td>1.000000</td>\n",
       "      <td>20.000000</td>\n",
       "    </tr>\n",
       "  </tbody>\n",
       "</table>\n",
       "</div>"
      ],
      "text/plain": [
       "                 ID  MONTHS_BALANCE   CNT_CHILDREN  AMT_INCOME_TOTAL  \\\n",
       "count  7.777150e+05   777715.000000  777715.000000      7.777150e+05   \n",
       "mean   5.078743e+06      -19.373564       0.428082      1.885348e+05   \n",
       "std    4.180442e+04       14.082208       0.745755      1.016225e+05   \n",
       "min    5.008804e+06      -60.000000       0.000000      2.700000e+04   \n",
       "25%    5.044568e+06      -29.000000       0.000000      1.215000e+05   \n",
       "50%    5.069530e+06      -17.000000       0.000000      1.620000e+05   \n",
       "75%    5.115551e+06       -8.000000       1.000000      2.250000e+05   \n",
       "max    5.150487e+06        0.000000      19.000000      1.575000e+06   \n",
       "\n",
       "          DAYS_BIRTH  DAYS_EMPLOYED  FLAG_MOBIL  FLAG_WORK_PHONE  \\\n",
       "count  777715.000000  777715.000000    777715.0    777715.000000   \n",
       "mean   -16124.937046   57775.825016         1.0         0.231818   \n",
       "std      4104.304018  136471.735391         0.0         0.421993   \n",
       "min    -25152.000000  -15713.000000         1.0         0.000000   \n",
       "25%    -19453.000000   -3292.000000         1.0         0.000000   \n",
       "50%    -15760.000000   -1682.000000         1.0         0.000000   \n",
       "75%    -12716.000000    -431.000000         1.0         0.000000   \n",
       "max     -7489.000000  365243.000000         1.0         1.000000   \n",
       "\n",
       "          FLAG_PHONE     FLAG_EMAIL  CNT_FAM_MEMBERS  \n",
       "count  777715.000000  777715.000000    777715.000000  \n",
       "mean        0.300965       0.091675         2.208837  \n",
       "std         0.458678       0.288567         0.907380  \n",
       "min         0.000000       0.000000         1.000000  \n",
       "25%         0.000000       0.000000         2.000000  \n",
       "50%         0.000000       0.000000         2.000000  \n",
       "75%         1.000000       0.000000         3.000000  \n",
       "max         1.000000       1.000000        20.000000  "
      ]
     },
     "execution_count": 9,
     "metadata": {},
     "output_type": "execute_result"
    }
   ],
   "source": [
    "# Descriptive statistics of the merged dataset\n",
    "data.describe()"
   ]
  },
  {
   "cell_type": "markdown",
   "id": "b6dc9143",
   "metadata": {
    "papermill": {
     "duration": 0.01104,
     "end_time": "2024-12-02T20:48:40.164766",
     "exception": false,
     "start_time": "2024-12-02T20:48:40.153726",
     "status": "completed"
    },
    "tags": []
   },
   "source": [
    "# 2. **Target Encoding for Application Status**\r\n"
   ]
  },
  {
   "cell_type": "code",
   "execution_count": 10,
   "id": "f79bf8fa",
   "metadata": {
    "papermill": {
     "duration": 0.05542,
     "end_time": "2024-12-02T20:48:40.230951",
     "exception": false,
     "start_time": "2024-12-02T20:48:40.175531",
     "status": "completed"
    },
    "tags": []
   },
   "outputs": [
    {
     "data": {
      "text/plain": [
       "array(['C', '1', '0', 'X', '5', '4', '3', '2'], dtype=object)"
      ]
     },
     "execution_count": 10,
     "metadata": {},
     "output_type": "execute_result"
    }
   ],
   "source": [
    "# Unique values in the target variable 'STATUS'\n",
    "data.STATUS.unique()"
   ]
  },
  {
   "cell_type": "code",
   "execution_count": 11,
   "id": "771440af",
   "metadata": {
    "papermill": {
     "duration": 0.632375,
     "end_time": "2024-12-02T20:48:40.874573",
     "exception": false,
     "start_time": "2024-12-02T20:48:40.242198",
     "status": "completed"
    },
    "tags": []
   },
   "outputs": [
    {
     "data": {
      "image/png": "[encoded data removed]",
      "text/plain": [
       "<Figure size 640x480 with 1 Axes>"
      ]
     },
     "metadata": {},
     "output_type": "display_data"
    }
   ],
   "source": [
    "# Plotting the distribution of application statuses\n",
    "sns.countplot(x='STATUS', data=data, palette='crest')\n",
    "plt.title('Distribution of STATUS')\n",
    "plt.xlabel('Category')\n",
    "plt.ylabel('Count')\n",
    "plt.show()"
   ]
  },
  {
   "cell_type": "markdown",
   "id": "5978a8e3",
   "metadata": {
    "papermill": {
     "duration": 0.011514,
     "end_time": "2024-12-02T20:48:40.897916",
     "exception": false,
     "start_time": "2024-12-02T20:48:40.886402",
     "status": "completed"
    },
    "tags": []
   },
   "source": [
    "* 0: 1-29 days past due\r\n",
    "\r\n",
    "* 1: 30-59 days past due \r\n",
    "\r\n",
    "* 2: 60-89 days past due \r\n",
    "\r\n",
    "* 3: 90-119 days past due \r\n",
    "\r\n",
    "* 4: 120-149 days past due \r\n",
    "\r\n",
    "* 5: More than 150 days past due \r\n",
    "\r\n",
    "* C: Paid off that month \r\n",
    "\r\n",
    "* X: No loan for the month e month for the month"
   ]
  },
  {
   "cell_type": "code",
   "execution_count": 12,
   "id": "ecd8b1ea",
   "metadata": {
    "papermill": {
     "duration": 0.054953,
     "end_time": "2024-12-02T20:48:40.964393",
     "exception": false,
     "start_time": "2024-12-02T20:48:40.909440",
     "status": "completed"
    },
    "tags": []
   },
   "outputs": [],
   "source": [
    "# Define a mapping for target encoding\n",
    "status_mapping = {\n",
    "    'C': 0,  # Approved\n",
    "    'X': 0,  # Approved\n",
    "    '0': 1,  # Not Approved\n",
    "    '1': 1,  # Not Approved\n",
    "    '2': 1,  # Not Approved\n",
    "    '3': 1,  # Not Approved\n",
    "    '4': 1,  # Not Approved\n",
    "    '5': 1   # Not Approved\n",
    "}\n",
    "\n",
    "# Map STATUS to target categories\n",
    "data['STATUS_CATEGORY'] = data['STATUS'].map(status_mapping)"
   ]
  },
  {
   "cell_type": "code",
   "execution_count": 13,
   "id": "94b58efc",
   "metadata": {
    "papermill": {
     "duration": 0.197052,
     "end_time": "2024-12-02T20:48:41.172804",
     "exception": false,
     "start_time": "2024-12-02T20:48:40.975752",
     "status": "completed"
    },
    "tags": []
   },
   "outputs": [
    {
     "data": {
      "image/png": "[encoded data removed]",
      "text/plain": [
       "<Figure size 640x480 with 1 Axes>"
      ]
     },
     "metadata": {},
     "output_type": "display_data"
    }
   ],
   "source": [
    "# Plotting the distribution of application status after mapping\n",
    "sns.countplot(x='STATUS_CATEGORY', data=data, palette='crest')\n",
    "plt.title('Distribution of STATUS')\n",
    "plt.xlabel('Category')\n",
    "plt.ylabel('Count')\n",
    "plt.show()"
   ]
  },
  {
   "cell_type": "markdown",
   "id": "e9975ad8",
   "metadata": {
    "papermill": {
     "duration": 0.011359,
     "end_time": "2024-12-02T20:48:41.201026",
     "exception": false,
     "start_time": "2024-12-02T20:48:41.189667",
     "status": "completed"
    },
    "tags": []
   },
   "source": [
    "# 4. **Aggregating Features for Enhanced Insights**"
   ]
  },
  {
   "cell_type": "markdown",
   "id": "ac3e8683",
   "metadata": {
    "papermill": {
     "duration": 0.011349,
     "end_time": "2024-12-02T20:48:41.224109",
     "exception": false,
     "start_time": "2024-12-02T20:48:41.212760",
     "status": "completed"
    },
    "tags": []
   },
   "source": [
    "\"We observed that some IDs in the dataset appeared in multiple rows. To address this issue, we implemented a solution that aggregates the data, ensuring each ID corresponds to a single entry.\""
   ]
  },
  {
   "cell_type": "code",
   "execution_count": 14,
   "id": "9b062128",
   "metadata": {
    "papermill": {
     "duration": 0.400908,
     "end_time": "2024-12-02T20:48:41.636589",
     "exception": false,
     "start_time": "2024-12-02T20:48:41.235681",
     "status": "completed"
    },
    "tags": []
   },
   "outputs": [],
   "source": [
    "# Filter the data to include only records with MONTHS_BALANCE < 1 before aggregation\n",
    "data = data[data['MONTHS_BALANCE'] <=0]\n",
    "# Now aggregate based on the shifted data\n",
    "aggregated_features = data.groupby('ID').agg({\n",
    "    'MONTHS_BALANCE': 'count',                   # Total months in credit history\n",
    "    'STATUS_CATEGORY': ['mean', 'max', 'sum'],   # Aggregate based on 'STATUS_CATEGORY'\n",
    "})\n",
    "\n",
    "# Flatten multi-level columns\n",
    "aggregated_features.columns = ['_'.join(col).strip() for col in aggregated_features.columns]\n",
    "aggregated_features = aggregated_features.reset_index()\n",
    "\n"
   ]
  },
  {
   "cell_type": "code",
   "execution_count": 15,
   "id": "9670f251",
   "metadata": {
    "papermill": {
     "duration": 0.071689,
     "end_time": "2024-12-02T20:48:41.719992",
     "exception": false,
     "start_time": "2024-12-02T20:48:41.648303",
     "status": "completed"
    },
    "tags": []
   },
   "outputs": [],
   "source": [
    "# Select unique demographic features by dropping duplicates\n",
    "demographics = data.drop_duplicates(subset='ID').drop(['MONTHS_BALANCE', 'STATUS'], axis=1)\n",
    "\n",
    "# Merge datasets\n",
    "data = pd.merge(demographics, aggregated_features, on='ID', how='left')\n"
   ]
  },
  {
   "cell_type": "code",
   "execution_count": 16,
   "id": "61293924",
   "metadata": {
    "papermill": {
     "duration": 0.036341,
     "end_time": "2024-12-02T20:48:41.768194",
     "exception": false,
     "start_time": "2024-12-02T20:48:41.731853",
     "status": "completed"
    },
    "tags": []
   },
   "outputs": [
    {
     "data": {
      "text/html": [
       "<div>\n",
       "<style scoped>\n",
       "    .dataframe tbody tr th:only-of-type {\n",
       "        vertical-align: middle;\n",
       "    }\n",
       "\n",
       "    .dataframe tbody tr th {\n",
       "        vertical-align: top;\n",
       "    }\n",
       "\n",
       "    .dataframe thead th {\n",
       "        text-align: right;\n",
       "    }\n",
       "</style>\n",
       "<table border=\"1\" class=\"dataframe\">\n",
       "  <thead>\n",
       "    <tr style=\"text-align: right;\">\n",
       "      <th></th>\n",
       "      <th>ID</th>\n",
       "      <th>CODE_GENDER</th>\n",
       "      <th>FLAG_OWN_CAR</th>\n",
       "      <th>FLAG_OWN_REALTY</th>\n",
       "      <th>CNT_CHILDREN</th>\n",
       "      <th>AMT_INCOME_TOTAL</th>\n",
       "      <th>NAME_INCOME_TYPE</th>\n",
       "      <th>NAME_EDUCATION_TYPE</th>\n",
       "      <th>NAME_FAMILY_STATUS</th>\n",
       "      <th>NAME_HOUSING_TYPE</th>\n",
       "      <th>...</th>\n",
       "      <th>FLAG_WORK_PHONE</th>\n",
       "      <th>FLAG_PHONE</th>\n",
       "      <th>FLAG_EMAIL</th>\n",
       "      <th>OCCUPATION_TYPE</th>\n",
       "      <th>CNT_FAM_MEMBERS</th>\n",
       "      <th>STATUS_CATEGORY</th>\n",
       "      <th>MONTHS_BALANCE_count</th>\n",
       "      <th>STATUS_CATEGORY_mean</th>\n",
       "      <th>STATUS_CATEGORY_max</th>\n",
       "      <th>STATUS_CATEGORY_sum</th>\n",
       "    </tr>\n",
       "  </thead>\n",
       "  <tbody>\n",
       "    <tr>\n",
       "      <th>0</th>\n",
       "      <td>5008804</td>\n",
       "      <td>M</td>\n",
       "      <td>Y</td>\n",
       "      <td>Y</td>\n",
       "      <td>0</td>\n",
       "      <td>427500.0</td>\n",
       "      <td>Working</td>\n",
       "      <td>Higher education</td>\n",
       "      <td>Civil marriage</td>\n",
       "      <td>Rented apartment</td>\n",
       "      <td>...</td>\n",
       "      <td>1</td>\n",
       "      <td>0</td>\n",
       "      <td>0</td>\n",
       "      <td>NaN</td>\n",
       "      <td>2.0</td>\n",
       "      <td>0</td>\n",
       "      <td>16</td>\n",
       "      <td>0.125000</td>\n",
       "      <td>1</td>\n",
       "      <td>2</td>\n",
       "    </tr>\n",
       "    <tr>\n",
       "      <th>1</th>\n",
       "      <td>5008805</td>\n",
       "      <td>M</td>\n",
       "      <td>Y</td>\n",
       "      <td>Y</td>\n",
       "      <td>0</td>\n",
       "      <td>427500.0</td>\n",
       "      <td>Working</td>\n",
       "      <td>Higher education</td>\n",
       "      <td>Civil marriage</td>\n",
       "      <td>Rented apartment</td>\n",
       "      <td>...</td>\n",
       "      <td>1</td>\n",
       "      <td>0</td>\n",
       "      <td>0</td>\n",
       "      <td>NaN</td>\n",
       "      <td>2.0</td>\n",
       "      <td>0</td>\n",
       "      <td>15</td>\n",
       "      <td>0.133333</td>\n",
       "      <td>1</td>\n",
       "      <td>2</td>\n",
       "    </tr>\n",
       "    <tr>\n",
       "      <th>2</th>\n",
       "      <td>5008806</td>\n",
       "      <td>M</td>\n",
       "      <td>Y</td>\n",
       "      <td>Y</td>\n",
       "      <td>0</td>\n",
       "      <td>112500.0</td>\n",
       "      <td>Working</td>\n",
       "      <td>Secondary / secondary special</td>\n",
       "      <td>Married</td>\n",
       "      <td>House / apartment</td>\n",
       "      <td>...</td>\n",
       "      <td>0</td>\n",
       "      <td>0</td>\n",
       "      <td>0</td>\n",
       "      <td>Security staff</td>\n",
       "      <td>2.0</td>\n",
       "      <td>0</td>\n",
       "      <td>30</td>\n",
       "      <td>0.233333</td>\n",
       "      <td>1</td>\n",
       "      <td>7</td>\n",
       "    </tr>\n",
       "    <tr>\n",
       "      <th>3</th>\n",
       "      <td>5008808</td>\n",
       "      <td>F</td>\n",
       "      <td>N</td>\n",
       "      <td>Y</td>\n",
       "      <td>0</td>\n",
       "      <td>270000.0</td>\n",
       "      <td>Commercial associate</td>\n",
       "      <td>Secondary / secondary special</td>\n",
       "      <td>Single / not married</td>\n",
       "      <td>House / apartment</td>\n",
       "      <td>...</td>\n",
       "      <td>0</td>\n",
       "      <td>1</td>\n",
       "      <td>1</td>\n",
       "      <td>Sales staff</td>\n",
       "      <td>1.0</td>\n",
       "      <td>1</td>\n",
       "      <td>5</td>\n",
       "      <td>0.400000</td>\n",
       "      <td>1</td>\n",
       "      <td>2</td>\n",
       "    </tr>\n",
       "    <tr>\n",
       "      <th>4</th>\n",
       "      <td>5008809</td>\n",
       "      <td>F</td>\n",
       "      <td>N</td>\n",
       "      <td>Y</td>\n",
       "      <td>0</td>\n",
       "      <td>270000.0</td>\n",
       "      <td>Commercial associate</td>\n",
       "      <td>Secondary / secondary special</td>\n",
       "      <td>Single / not married</td>\n",
       "      <td>House / apartment</td>\n",
       "      <td>...</td>\n",
       "      <td>0</td>\n",
       "      <td>1</td>\n",
       "      <td>1</td>\n",
       "      <td>Sales staff</td>\n",
       "      <td>1.0</td>\n",
       "      <td>0</td>\n",
       "      <td>5</td>\n",
       "      <td>0.000000</td>\n",
       "      <td>0</td>\n",
       "      <td>0</td>\n",
       "    </tr>\n",
       "  </tbody>\n",
       "</table>\n",
       "<p>5 rows × 23 columns</p>\n",
       "</div>"
      ],
      "text/plain": [
       "        ID CODE_GENDER FLAG_OWN_CAR FLAG_OWN_REALTY  CNT_CHILDREN  \\\n",
       "0  5008804           M            Y               Y             0   \n",
       "1  5008805           M            Y               Y             0   \n",
       "2  5008806           M            Y               Y             0   \n",
       "3  5008808           F            N               Y             0   \n",
       "4  5008809           F            N               Y             0   \n",
       "\n",
       "   AMT_INCOME_TOTAL      NAME_INCOME_TYPE            NAME_EDUCATION_TYPE  \\\n",
       "0          427500.0               Working               Higher education   \n",
       "1          427500.0               Working               Higher education   \n",
       "2          112500.0               Working  Secondary / secondary special   \n",
       "3          270000.0  Commercial associate  Secondary / secondary special   \n",
       "4          270000.0  Commercial associate  Secondary / secondary special   \n",
       "\n",
       "     NAME_FAMILY_STATUS  NAME_HOUSING_TYPE  ...  FLAG_WORK_PHONE  FLAG_PHONE  \\\n",
       "0        Civil marriage   Rented apartment  ...                1           0   \n",
       "1        Civil marriage   Rented apartment  ...                1           0   \n",
       "2               Married  House / apartment  ...                0           0   \n",
       "3  Single / not married  House / apartment  ...                0           1   \n",
       "4  Single / not married  House / apartment  ...                0           1   \n",
       "\n",
       "   FLAG_EMAIL  OCCUPATION_TYPE  CNT_FAM_MEMBERS  STATUS_CATEGORY  \\\n",
       "0           0              NaN              2.0                0   \n",
       "1           0              NaN              2.0                0   \n",
       "2           0   Security staff              2.0                0   \n",
       "3           1      Sales staff              1.0                1   \n",
       "4           1      Sales staff              1.0                0   \n",
       "\n",
       "  MONTHS_BALANCE_count  STATUS_CATEGORY_mean  STATUS_CATEGORY_max  \\\n",
       "0                   16              0.125000                    1   \n",
       "1                   15              0.133333                    1   \n",
       "2                   30              0.233333                    1   \n",
       "3                    5              0.400000                    1   \n",
       "4                    5              0.000000                    0   \n",
       "\n",
       "   STATUS_CATEGORY_sum  \n",
       "0                    2  \n",
       "1                    2  \n",
       "2                    7  \n",
       "3                    2  \n",
       "4                    0  \n",
       "\n",
       "[5 rows x 23 columns]"
      ]
     },
     "execution_count": 16,
     "metadata": {},
     "output_type": "execute_result"
    }
   ],
   "source": [
    "# Display the merged dataset with demographic features\n",
    "data.head()"
   ]
  },
  {
   "cell_type": "markdown",
   "id": "6d306798",
   "metadata": {
    "papermill": {
     "duration": 0.011963,
     "end_time": "2024-12-02T20:48:41.792711",
     "exception": false,
     "start_time": "2024-12-02T20:48:41.780748",
     "status": "completed"
    },
    "tags": []
   },
   "source": [
    "# 5. **Visualizing Demographics and Risks**"
   ]
  },
  {
   "cell_type": "code",
   "execution_count": 17,
   "id": "d5f35986",
   "metadata": {
    "papermill": {
     "duration": 0.025502,
     "end_time": "2024-12-02T20:48:41.830408",
     "exception": false,
     "start_time": "2024-12-02T20:48:41.804906",
     "status": "completed"
    },
    "tags": []
   },
   "outputs": [
    {
     "data": {
      "text/plain": [
       "STATUS_CATEGORY\n",
       "0    27619\n",
       "1     8838\n",
       "Name: count, dtype: int64"
      ]
     },
     "execution_count": 17,
     "metadata": {},
     "output_type": "execute_result"
    }
   ],
   "source": [
    "# Count the occurrences of each category in STATUS_CATEGORY\n",
    "data['STATUS_CATEGORY'].value_counts()"
   ]
  },
  {
   "cell_type": "code",
   "execution_count": 18,
   "id": "b4e3403a",
   "metadata": {
    "papermill": {
     "duration": 0.311118,
     "end_time": "2024-12-02T20:48:42.153876",
     "exception": false,
     "start_time": "2024-12-02T20:48:41.842758",
     "status": "completed"
    },
    "tags": []
   },
   "outputs": [
    {
     "data": {
      "image/png": "[encoded data removed]",
      "text/plain": [
       "<Figure size 640x480 with 1 Axes>"
      ]
     },
     "metadata": {},
     "output_type": "display_data"
    }
   ],
   "source": [
    "# Cross-tabulation and visualization of risk levels by income type\n",
    "pd.crosstab(data['NAME_INCOME_TYPE'], data['STATUS_CATEGORY'], normalize='index').plot(kind='bar', stacked=True, colormap='crest')\n",
    "plt.title('Risk Levels by Income Type')\n",
    "plt.xlabel('Income Type')\n",
    "plt.ylabel('Proportion')\n",
    "plt.show()"
   ]
  },
  {
   "cell_type": "code",
   "execution_count": 19,
   "id": "f41b89f9",
   "metadata": {
    "papermill": {
     "duration": 0.28962,
     "end_time": "2024-12-02T20:48:42.456612",
     "exception": false,
     "start_time": "2024-12-02T20:48:42.166992",
     "status": "completed"
    },
    "tags": []
   },
   "outputs": [
    {
     "data": {
      "image/png": "[encoded data removed]",
      "text/plain": [
       "<Figure size 640x480 with 1 Axes>"
      ]
     },
     "metadata": {},
     "output_type": "display_data"
    }
   ],
   "source": [
    "# Cross-tabulation and visualization of risk levels by Family status\n",
    "pd.crosstab(data['NAME_FAMILY_STATUS'], data['STATUS_CATEGORY'], normalize='index').plot(kind='bar', stacked=True, colormap='crest')\n",
    "plt.title('Risk Levels by Family Status')\n",
    "plt.xlabel('Family status')\n",
    "plt.ylabel('Proportion')\n",
    "plt.show()"
   ]
  },
  {
   "cell_type": "markdown",
   "id": "dbbe37cd",
   "metadata": {
    "papermill": {
     "duration": 0.01274,
     "end_time": "2024-12-02T20:48:42.482559",
     "exception": false,
     "start_time": "2024-12-02T20:48:42.469819",
     "status": "completed"
    },
    "tags": []
   },
   "source": [
    "# 6. **Exploring Categorical Variables**"
   ]
  },
  {
   "cell_type": "code",
   "execution_count": 20,
   "id": "e2dde924",
   "metadata": {
    "papermill": {
     "duration": 0.041069,
     "end_time": "2024-12-02T20:48:42.536699",
     "exception": false,
     "start_time": "2024-12-02T20:48:42.495630",
     "status": "completed"
    },
    "tags": []
   },
   "outputs": [
    {
     "name": "stdout",
     "output_type": "stream",
     "text": [
      "CODE_GENDER: ['M' 'F']\n",
      "FLAG_OWN_CAR: ['Y' 'N']\n",
      "FLAG_OWN_REALTY: ['Y' 'N']\n",
      "NAME_INCOME_TYPE: ['Working' 'Commercial associate' 'Pensioner' 'State servant' 'Student']\n",
      "NAME_EDUCATION_TYPE: ['Higher education' 'Secondary / secondary special' 'Incomplete higher'\n",
      " 'Lower secondary' 'Academic degree']\n",
      "NAME_FAMILY_STATUS: ['Civil marriage' 'Married' 'Single / not married' 'Separated' 'Widow']\n",
      "NAME_HOUSING_TYPE: ['Rented apartment' 'House / apartment' 'Municipal apartment'\n",
      " 'With parents' 'Co-op apartment' 'Office apartment']\n",
      "OCCUPATION_TYPE: [nan 'Security staff' 'Sales staff' 'Accountants' 'Laborers' 'Managers'\n",
      " 'Drivers' 'Core staff' 'High skill tech staff' 'Cleaning staff'\n",
      " 'Private service staff' 'Cooking staff' 'Low-skill Laborers'\n",
      " 'Medicine staff' 'Secretaries' 'Waiters/barmen staff' 'HR staff'\n",
      " 'Realty agents' 'IT staff']\n"
     ]
    }
   ],
   "source": [
    "# Display unique values for categorical columns\n",
    "print('CODE_GENDER:',data['CODE_GENDER'].unique())\n",
    "print('FLAG_OWN_CAR:',data['FLAG_OWN_CAR'].unique())\n",
    "print('FLAG_OWN_REALTY:',data['FLAG_OWN_REALTY'].unique())\n",
    "print('NAME_INCOME_TYPE:',data['NAME_INCOME_TYPE'].unique())\n",
    "print('NAME_EDUCATION_TYPE:',data['NAME_EDUCATION_TYPE'].unique())\n",
    "print('NAME_FAMILY_STATUS:',data['NAME_FAMILY_STATUS'].unique())\n",
    "print('NAME_HOUSING_TYPE:',data['NAME_HOUSING_TYPE'].unique())\n",
    "print('OCCUPATION_TYPE:',data['OCCUPATION_TYPE'].unique())"
   ]
  },
  {
   "cell_type": "markdown",
   "id": "b613a040",
   "metadata": {
    "papermill": {
     "duration": 0.013265,
     "end_time": "2024-12-02T20:48:42.563668",
     "exception": false,
     "start_time": "2024-12-02T20:48:42.550403",
     "status": "completed"
    },
    "tags": []
   },
   "source": [
    "# 7. **Data Cleaning and Preparation**"
   ]
  },
  {
   "cell_type": "code",
   "execution_count": 21,
   "id": "cc72656e",
   "metadata": {
    "papermill": {
     "duration": 0.040741,
     "end_time": "2024-12-02T20:48:42.617709",
     "exception": false,
     "start_time": "2024-12-02T20:48:42.576968",
     "status": "completed"
    },
    "tags": []
   },
   "outputs": [
    {
     "data": {
      "text/plain": [
       "ID                          0\n",
       "CODE_GENDER                 0\n",
       "FLAG_OWN_CAR                0\n",
       "FLAG_OWN_REALTY             0\n",
       "CNT_CHILDREN                0\n",
       "AMT_INCOME_TOTAL            0\n",
       "NAME_INCOME_TYPE            0\n",
       "NAME_EDUCATION_TYPE         0\n",
       "NAME_FAMILY_STATUS          0\n",
       "NAME_HOUSING_TYPE           0\n",
       "DAYS_BIRTH                  0\n",
       "DAYS_EMPLOYED               0\n",
       "FLAG_MOBIL                  0\n",
       "FLAG_WORK_PHONE             0\n",
       "FLAG_PHONE                  0\n",
       "FLAG_EMAIL                  0\n",
       "OCCUPATION_TYPE         11323\n",
       "CNT_FAM_MEMBERS             0\n",
       "STATUS_CATEGORY             0\n",
       "MONTHS_BALANCE_count        0\n",
       "STATUS_CATEGORY_mean        0\n",
       "STATUS_CATEGORY_max         0\n",
       "STATUS_CATEGORY_sum         0\n",
       "dtype: int64"
      ]
     },
     "execution_count": 21,
     "metadata": {},
     "output_type": "execute_result"
    }
   ],
   "source": [
    "# Check for missing values\n",
    "data.isna().sum()"
   ]
  },
  {
   "cell_type": "code",
   "execution_count": 22,
   "id": "65dc8fc5",
   "metadata": {
    "papermill": {
     "duration": 0.025157,
     "end_time": "2024-12-02T20:48:42.656503",
     "exception": false,
     "start_time": "2024-12-02T20:48:42.631346",
     "status": "completed"
    },
    "tags": []
   },
   "outputs": [],
   "source": [
    "# Drop unnecessary columns\n",
    "data.drop(['FLAG_MOBIL','FLAG_WORK_PHONE','CNT_CHILDREN','OCCUPATION_TYPE'],axis=1,inplace=True)"
   ]
  },
  {
   "cell_type": "code",
   "execution_count": 23,
   "id": "b0c4bfb4",
   "metadata": {
    "papermill": {
     "duration": 0.055289,
     "end_time": "2024-12-02T20:48:42.725367",
     "exception": false,
     "start_time": "2024-12-02T20:48:42.670078",
     "status": "completed"
    },
    "tags": []
   },
   "outputs": [
    {
     "data": {
      "text/plain": [
       "ID                      0\n",
       "CODE_GENDER             0\n",
       "FLAG_OWN_CAR            0\n",
       "FLAG_OWN_REALTY         0\n",
       "AMT_INCOME_TOTAL        0\n",
       "NAME_INCOME_TYPE        0\n",
       "NAME_EDUCATION_TYPE     0\n",
       "NAME_FAMILY_STATUS      0\n",
       "NAME_HOUSING_TYPE       0\n",
       "DAYS_BIRTH              0\n",
       "DAYS_EMPLOYED           0\n",
       "FLAG_PHONE              0\n",
       "FLAG_EMAIL              0\n",
       "CNT_FAM_MEMBERS         0\n",
       "STATUS_CATEGORY         0\n",
       "MONTHS_BALANCE_count    0\n",
       "STATUS_CATEGORY_mean    0\n",
       "STATUS_CATEGORY_max     0\n",
       "STATUS_CATEGORY_sum     0\n",
       "dtype: int64"
      ]
     },
     "execution_count": 23,
     "metadata": {},
     "output_type": "execute_result"
    }
   ],
   "source": [
    "# Drop rows with missing values\n",
    "data.dropna(inplace=True)\n",
    "data.isna().sum()"
   ]
  },
  {
   "cell_type": "code",
   "execution_count": 24,
   "id": "a2387b2b",
   "metadata": {
    "papermill": {
     "duration": 0.074995,
     "end_time": "2024-12-02T20:48:42.813994",
     "exception": false,
     "start_time": "2024-12-02T20:48:42.738999",
     "status": "completed"
    },
    "tags": []
   },
   "outputs": [],
   "source": [
    "# Check for duplicate rows \n",
    "data.duplicated().sum()\n",
    "data.drop_duplicates(inplace=True)"
   ]
  },
  {
   "cell_type": "code",
   "execution_count": 25,
   "id": "038eb56a",
   "metadata": {
    "papermill": {
     "duration": 0.029874,
     "end_time": "2024-12-02T20:48:42.857678",
     "exception": false,
     "start_time": "2024-12-02T20:48:42.827804",
     "status": "completed"
    },
    "tags": []
   },
   "outputs": [],
   "source": [
    "# Convert DAYS_BIRTH to age in years\n",
    "data['AGE'] = abs(data['DAYS_BIRTH']) // 365\n",
    "\n",
    "# Convert DAYS_EMPLOYED to employment duration in years\n",
    "data['EMPLOYMENT_DURATION'] = abs(data['DAYS_EMPLOYED']) // 365\n",
    "\n",
    "# Drop the original DAYS_BIRTH and DAYS_EMPLOYED columns\n",
    "data.drop(['DAYS_BIRTH', 'DAYS_EMPLOYED'], axis=1, inplace=True)"
   ]
  },
  {
   "cell_type": "markdown",
   "id": "7d406f34",
   "metadata": {
    "papermill": {
     "duration": 0.013427,
     "end_time": "2024-12-02T20:48:42.884532",
     "exception": false,
     "start_time": "2024-12-02T20:48:42.871105",
     "status": "completed"
    },
    "tags": []
   },
   "source": [
    "**Convert DAYS_BIRTH to age in years**\r\n",
    "\\\r\n",
    "This transformation allows us to interpret the age of the applicants in a more intuitive way by converting the negative number of days into a positive integer representing the age in years.\r\n",
    "\r\n",
    "**Convert DAYS_EMPLOYED to employment duration in years**\r\n",
    "\\\r\n",
    "Similarly, this transformation converts the negative number of days of employment into a positive integer representing the length of employment in years,which can be useful for understanding the applicant's work history."
   ]
  },
  {
   "cell_type": "markdown",
   "id": "eee97438",
   "metadata": {
    "papermill": {
     "duration": 0.013112,
     "end_time": "2024-12-02T20:48:42.911150",
     "exception": false,
     "start_time": "2024-12-02T20:48:42.898038",
     "status": "completed"
    },
    "tags": []
   },
   "source": [
    "# 8. **Visualizing Feature Distributions**"
   ]
  },
  {
   "cell_type": "code",
   "execution_count": 26,
   "id": "7b3891c1",
   "metadata": {
    "papermill": {
     "duration": 2.186325,
     "end_time": "2024-12-02T20:48:45.110942",
     "exception": false,
     "start_time": "2024-12-02T20:48:42.924617",
     "status": "completed"
    },
    "tags": []
   },
   "outputs": [
    {
     "data": {
      "image/png": "[encoded data removed]",
      "text/plain": [
       "<Figure size 2000x1500 with 12 Axes>"
      ]
     },
     "metadata": {},
     "output_type": "display_data"
    }
   ],
   "source": [
    "#Visualizing the features to know the distribution for each one of them\n",
    "data.hist(figsize=(20,15),color='#45538D')\n",
    "plt.show()"
   ]
  },
  {
   "cell_type": "markdown",
   "id": "378d514d",
   "metadata": {
    "papermill": {
     "duration": 0.015469,
     "end_time": "2024-12-02T20:48:45.142493",
     "exception": false,
     "start_time": "2024-12-02T20:48:45.127024",
     "status": "completed"
    },
    "tags": []
   },
   "source": [
    "# 9. **Correlation Analysis**"
   ]
  },
  {
   "cell_type": "code",
   "execution_count": 27,
   "id": "ff1eb80e",
   "metadata": {
    "papermill": {
     "duration": 0.756338,
     "end_time": "2024-12-02T20:48:45.914560",
     "exception": false,
     "start_time": "2024-12-02T20:48:45.158222",
     "status": "completed"
    },
    "tags": []
   },
   "outputs": [
    {
     "data": {
      "image/png": "[encoded data removed]",
      "text/plain": [
       "<Figure size 1200x1000 with 2 Axes>"
      ]
     },
     "metadata": {},
     "output_type": "display_data"
    }
   ],
   "source": [
    "# Select only numeric columns\n",
    "numeric_data = data.select_dtypes(include=[np.number])\n",
    "\n",
    "# Calculate the correlation matrix\n",
    "corr_matrix = numeric_data.corr()\n",
    "\n",
    "# Set the size of the plot\n",
    "plt.figure(figsize=(12, 10))\n",
    "\n",
    "# Create a heatmap\n",
    "sns.heatmap(corr_matrix, annot=True, cmap='crest', fmt='.2f')\n",
    "\n",
    "# Set the title\n",
    "plt.title('Correlation Heatmap')\n",
    "plt.tight_layout()\n",
    "\n",
    "# Show the plot\n",
    "plt.show()"
   ]
  },
  {
   "cell_type": "markdown",
   "id": "4102d461",
   "metadata": {
    "papermill": {
     "duration": 0.017643,
     "end_time": "2024-12-02T20:48:45.950585",
     "exception": false,
     "start_time": "2024-12-02T20:48:45.932942",
     "status": "completed"
    },
    "tags": []
   },
   "source": [
    "# 10. **Encoding Categorical Features**"
   ]
  },
  {
   "cell_type": "code",
   "execution_count": 28,
   "id": "f38d9480",
   "metadata": {
    "papermill": {
     "duration": 0.058911,
     "end_time": "2024-12-02T20:48:46.027212",
     "exception": false,
     "start_time": "2024-12-02T20:48:45.968301",
     "status": "completed"
    },
    "tags": []
   },
   "outputs": [
    {
     "data": {
      "text/html": [
       "<div>\n",
       "<style scoped>\n",
       "    .dataframe tbody tr th:only-of-type {\n",
       "        vertical-align: middle;\n",
       "    }\n",
       "\n",
       "    .dataframe tbody tr th {\n",
       "        vertical-align: top;\n",
       "    }\n",
       "\n",
       "    .dataframe thead th {\n",
       "        text-align: right;\n",
       "    }\n",
       "</style>\n",
       "<table border=\"1\" class=\"dataframe\">\n",
       "  <thead>\n",
       "    <tr style=\"text-align: right;\">\n",
       "      <th></th>\n",
       "      <th>ID</th>\n",
       "      <th>CODE_GENDER</th>\n",
       "      <th>FLAG_OWN_CAR</th>\n",
       "      <th>FLAG_OWN_REALTY</th>\n",
       "      <th>AMT_INCOME_TOTAL</th>\n",
       "      <th>NAME_INCOME_TYPE</th>\n",
       "      <th>NAME_EDUCATION_TYPE</th>\n",
       "      <th>NAME_FAMILY_STATUS</th>\n",
       "      <th>NAME_HOUSING_TYPE</th>\n",
       "      <th>FLAG_PHONE</th>\n",
       "      <th>FLAG_EMAIL</th>\n",
       "      <th>CNT_FAM_MEMBERS</th>\n",
       "      <th>STATUS_CATEGORY</th>\n",
       "      <th>MONTHS_BALANCE_count</th>\n",
       "      <th>STATUS_CATEGORY_mean</th>\n",
       "      <th>STATUS_CATEGORY_max</th>\n",
       "      <th>STATUS_CATEGORY_sum</th>\n",
       "      <th>AGE</th>\n",
       "      <th>EMPLOYMENT_DURATION</th>\n",
       "    </tr>\n",
       "  </thead>\n",
       "  <tbody>\n",
       "    <tr>\n",
       "      <th>0</th>\n",
       "      <td>5008804</td>\n",
       "      <td>1</td>\n",
       "      <td>1</td>\n",
       "      <td>1</td>\n",
       "      <td>427500.0</td>\n",
       "      <td>Working</td>\n",
       "      <td>Higher education</td>\n",
       "      <td>Civil marriage</td>\n",
       "      <td>Rented apartment</td>\n",
       "      <td>0</td>\n",
       "      <td>0</td>\n",
       "      <td>2.0</td>\n",
       "      <td>0</td>\n",
       "      <td>16</td>\n",
       "      <td>0.125000</td>\n",
       "      <td>1</td>\n",
       "      <td>2</td>\n",
       "      <td>32</td>\n",
       "      <td>12</td>\n",
       "    </tr>\n",
       "    <tr>\n",
       "      <th>1</th>\n",
       "      <td>5008805</td>\n",
       "      <td>1</td>\n",
       "      <td>1</td>\n",
       "      <td>1</td>\n",
       "      <td>427500.0</td>\n",
       "      <td>Working</td>\n",
       "      <td>Higher education</td>\n",
       "      <td>Civil marriage</td>\n",
       "      <td>Rented apartment</td>\n",
       "      <td>0</td>\n",
       "      <td>0</td>\n",
       "      <td>2.0</td>\n",
       "      <td>0</td>\n",
       "      <td>15</td>\n",
       "      <td>0.133333</td>\n",
       "      <td>1</td>\n",
       "      <td>2</td>\n",
       "      <td>32</td>\n",
       "      <td>12</td>\n",
       "    </tr>\n",
       "    <tr>\n",
       "      <th>2</th>\n",
       "      <td>5008806</td>\n",
       "      <td>1</td>\n",
       "      <td>1</td>\n",
       "      <td>1</td>\n",
       "      <td>112500.0</td>\n",
       "      <td>Working</td>\n",
       "      <td>Secondary / secondary special</td>\n",
       "      <td>Married</td>\n",
       "      <td>House / apartment</td>\n",
       "      <td>0</td>\n",
       "      <td>0</td>\n",
       "      <td>2.0</td>\n",
       "      <td>0</td>\n",
       "      <td>30</td>\n",
       "      <td>0.233333</td>\n",
       "      <td>1</td>\n",
       "      <td>7</td>\n",
       "      <td>58</td>\n",
       "      <td>3</td>\n",
       "    </tr>\n",
       "    <tr>\n",
       "      <th>3</th>\n",
       "      <td>5008808</td>\n",
       "      <td>0</td>\n",
       "      <td>0</td>\n",
       "      <td>1</td>\n",
       "      <td>270000.0</td>\n",
       "      <td>Commercial associate</td>\n",
       "      <td>Secondary / secondary special</td>\n",
       "      <td>Single / not married</td>\n",
       "      <td>House / apartment</td>\n",
       "      <td>1</td>\n",
       "      <td>1</td>\n",
       "      <td>1.0</td>\n",
       "      <td>1</td>\n",
       "      <td>5</td>\n",
       "      <td>0.400000</td>\n",
       "      <td>1</td>\n",
       "      <td>2</td>\n",
       "      <td>52</td>\n",
       "      <td>8</td>\n",
       "    </tr>\n",
       "    <tr>\n",
       "      <th>4</th>\n",
       "      <td>5008809</td>\n",
       "      <td>0</td>\n",
       "      <td>0</td>\n",
       "      <td>1</td>\n",
       "      <td>270000.0</td>\n",
       "      <td>Commercial associate</td>\n",
       "      <td>Secondary / secondary special</td>\n",
       "      <td>Single / not married</td>\n",
       "      <td>House / apartment</td>\n",
       "      <td>1</td>\n",
       "      <td>1</td>\n",
       "      <td>1.0</td>\n",
       "      <td>0</td>\n",
       "      <td>5</td>\n",
       "      <td>0.000000</td>\n",
       "      <td>0</td>\n",
       "      <td>0</td>\n",
       "      <td>52</td>\n",
       "      <td>8</td>\n",
       "    </tr>\n",
       "  </tbody>\n",
       "</table>\n",
       "</div>"
      ],
      "text/plain": [
       "        ID  CODE_GENDER  FLAG_OWN_CAR  FLAG_OWN_REALTY  AMT_INCOME_TOTAL  \\\n",
       "0  5008804            1             1                1          427500.0   \n",
       "1  5008805            1             1                1          427500.0   \n",
       "2  5008806            1             1                1          112500.0   \n",
       "3  5008808            0             0                1          270000.0   \n",
       "4  5008809            0             0                1          270000.0   \n",
       "\n",
       "       NAME_INCOME_TYPE            NAME_EDUCATION_TYPE    NAME_FAMILY_STATUS  \\\n",
       "0               Working               Higher education        Civil marriage   \n",
       "1               Working               Higher education        Civil marriage   \n",
       "2               Working  Secondary / secondary special               Married   \n",
       "3  Commercial associate  Secondary / secondary special  Single / not married   \n",
       "4  Commercial associate  Secondary / secondary special  Single / not married   \n",
       "\n",
       "   NAME_HOUSING_TYPE  FLAG_PHONE  FLAG_EMAIL  CNT_FAM_MEMBERS  \\\n",
       "0   Rented apartment           0           0              2.0   \n",
       "1   Rented apartment           0           0              2.0   \n",
       "2  House / apartment           0           0              2.0   \n",
       "3  House / apartment           1           1              1.0   \n",
       "4  House / apartment           1           1              1.0   \n",
       "\n",
       "   STATUS_CATEGORY  MONTHS_BALANCE_count  STATUS_CATEGORY_mean  \\\n",
       "0                0                    16              0.125000   \n",
       "1                0                    15              0.133333   \n",
       "2                0                    30              0.233333   \n",
       "3                1                     5              0.400000   \n",
       "4                0                     5              0.000000   \n",
       "\n",
       "   STATUS_CATEGORY_max  STATUS_CATEGORY_sum  AGE  EMPLOYMENT_DURATION  \n",
       "0                    1                    2   32                   12  \n",
       "1                    1                    2   32                   12  \n",
       "2                    1                    7   58                    3  \n",
       "3                    1                    2   52                    8  \n",
       "4                    0                    0   52                    8  "
      ]
     },
     "execution_count": 28,
     "metadata": {},
     "output_type": "execute_result"
    }
   ],
   "source": [
    "#Label Encoding\n",
    "LE=LabelEncoder() # Initialize Label Encoder\n",
    "\n",
    "# List of columns to encode\n",
    "columns_to_encode = ['CODE_GENDER', 'FLAG_OWN_CAR', 'FLAG_OWN_REALTY']\n",
    "\n",
    "# Apply Label Encoding to each specified column\n",
    "for column in columns_to_encode:\n",
    "    data[column] = LE.fit_transform(data[column])\n",
    "\n",
    "# Display the first few rows of the modified DataFrame\n",
    "data.head()"
   ]
  },
  {
   "cell_type": "code",
   "execution_count": 29,
   "id": "131109d6",
   "metadata": {
    "papermill": {
     "duration": 0.066689,
     "end_time": "2024-12-02T20:48:46.112053",
     "exception": false,
     "start_time": "2024-12-02T20:48:46.045364",
     "status": "completed"
    },
    "tags": []
   },
   "outputs": [
    {
     "data": {
      "text/html": [
       "<div>\n",
       "<style scoped>\n",
       "    .dataframe tbody tr th:only-of-type {\n",
       "        vertical-align: middle;\n",
       "    }\n",
       "\n",
       "    .dataframe tbody tr th {\n",
       "        vertical-align: top;\n",
       "    }\n",
       "\n",
       "    .dataframe thead th {\n",
       "        text-align: right;\n",
       "    }\n",
       "</style>\n",
       "<table border=\"1\" class=\"dataframe\">\n",
       "  <thead>\n",
       "    <tr style=\"text-align: right;\">\n",
       "      <th></th>\n",
       "      <th>ID</th>\n",
       "      <th>CODE_GENDER</th>\n",
       "      <th>FLAG_OWN_CAR</th>\n",
       "      <th>FLAG_OWN_REALTY</th>\n",
       "      <th>AMT_INCOME_TOTAL</th>\n",
       "      <th>FLAG_PHONE</th>\n",
       "      <th>FLAG_EMAIL</th>\n",
       "      <th>CNT_FAM_MEMBERS</th>\n",
       "      <th>STATUS_CATEGORY</th>\n",
       "      <th>MONTHS_BALANCE_count</th>\n",
       "      <th>...</th>\n",
       "      <th>NAME_EDUCATION_TYPE_Secondary / secondary special</th>\n",
       "      <th>NAME_FAMILY_STATUS_Married</th>\n",
       "      <th>NAME_FAMILY_STATUS_Separated</th>\n",
       "      <th>NAME_FAMILY_STATUS_Single / not married</th>\n",
       "      <th>NAME_FAMILY_STATUS_Widow</th>\n",
       "      <th>NAME_HOUSING_TYPE_House / apartment</th>\n",
       "      <th>NAME_HOUSING_TYPE_Municipal apartment</th>\n",
       "      <th>NAME_HOUSING_TYPE_Office apartment</th>\n",
       "      <th>NAME_HOUSING_TYPE_Rented apartment</th>\n",
       "      <th>NAME_HOUSING_TYPE_With parents</th>\n",
       "    </tr>\n",
       "  </thead>\n",
       "  <tbody>\n",
       "    <tr>\n",
       "      <th>0</th>\n",
       "      <td>5008804</td>\n",
       "      <td>1</td>\n",
       "      <td>1</td>\n",
       "      <td>1</td>\n",
       "      <td>427500.0</td>\n",
       "      <td>0</td>\n",
       "      <td>0</td>\n",
       "      <td>2.0</td>\n",
       "      <td>0</td>\n",
       "      <td>16</td>\n",
       "      <td>...</td>\n",
       "      <td>False</td>\n",
       "      <td>False</td>\n",
       "      <td>False</td>\n",
       "      <td>False</td>\n",
       "      <td>False</td>\n",
       "      <td>False</td>\n",
       "      <td>False</td>\n",
       "      <td>False</td>\n",
       "      <td>True</td>\n",
       "      <td>False</td>\n",
       "    </tr>\n",
       "    <tr>\n",
       "      <th>1</th>\n",
       "      <td>5008805</td>\n",
       "      <td>1</td>\n",
       "      <td>1</td>\n",
       "      <td>1</td>\n",
       "      <td>427500.0</td>\n",
       "      <td>0</td>\n",
       "      <td>0</td>\n",
       "      <td>2.0</td>\n",
       "      <td>0</td>\n",
       "      <td>15</td>\n",
       "      <td>...</td>\n",
       "      <td>False</td>\n",
       "      <td>False</td>\n",
       "      <td>False</td>\n",
       "      <td>False</td>\n",
       "      <td>False</td>\n",
       "      <td>False</td>\n",
       "      <td>False</td>\n",
       "      <td>False</td>\n",
       "      <td>True</td>\n",
       "      <td>False</td>\n",
       "    </tr>\n",
       "    <tr>\n",
       "      <th>2</th>\n",
       "      <td>5008806</td>\n",
       "      <td>1</td>\n",
       "      <td>1</td>\n",
       "      <td>1</td>\n",
       "      <td>112500.0</td>\n",
       "      <td>0</td>\n",
       "      <td>0</td>\n",
       "      <td>2.0</td>\n",
       "      <td>0</td>\n",
       "      <td>30</td>\n",
       "      <td>...</td>\n",
       "      <td>True</td>\n",
       "      <td>True</td>\n",
       "      <td>False</td>\n",
       "      <td>False</td>\n",
       "      <td>False</td>\n",
       "      <td>True</td>\n",
       "      <td>False</td>\n",
       "      <td>False</td>\n",
       "      <td>False</td>\n",
       "      <td>False</td>\n",
       "    </tr>\n",
       "    <tr>\n",
       "      <th>3</th>\n",
       "      <td>5008808</td>\n",
       "      <td>0</td>\n",
       "      <td>0</td>\n",
       "      <td>1</td>\n",
       "      <td>270000.0</td>\n",
       "      <td>1</td>\n",
       "      <td>1</td>\n",
       "      <td>1.0</td>\n",
       "      <td>1</td>\n",
       "      <td>5</td>\n",
       "      <td>...</td>\n",
       "      <td>True</td>\n",
       "      <td>False</td>\n",
       "      <td>False</td>\n",
       "      <td>True</td>\n",
       "      <td>False</td>\n",
       "      <td>True</td>\n",
       "      <td>False</td>\n",
       "      <td>False</td>\n",
       "      <td>False</td>\n",
       "      <td>False</td>\n",
       "    </tr>\n",
       "    <tr>\n",
       "      <th>4</th>\n",
       "      <td>5008809</td>\n",
       "      <td>0</td>\n",
       "      <td>0</td>\n",
       "      <td>1</td>\n",
       "      <td>270000.0</td>\n",
       "      <td>1</td>\n",
       "      <td>1</td>\n",
       "      <td>1.0</td>\n",
       "      <td>0</td>\n",
       "      <td>5</td>\n",
       "      <td>...</td>\n",
       "      <td>True</td>\n",
       "      <td>False</td>\n",
       "      <td>False</td>\n",
       "      <td>True</td>\n",
       "      <td>False</td>\n",
       "      <td>True</td>\n",
       "      <td>False</td>\n",
       "      <td>False</td>\n",
       "      <td>False</td>\n",
       "      <td>False</td>\n",
       "    </tr>\n",
       "  </tbody>\n",
       "</table>\n",
       "<p>5 rows × 32 columns</p>\n",
       "</div>"
      ],
      "text/plain": [
       "        ID  CODE_GENDER  FLAG_OWN_CAR  FLAG_OWN_REALTY  AMT_INCOME_TOTAL  \\\n",
       "0  5008804            1             1                1          427500.0   \n",
       "1  5008805            1             1                1          427500.0   \n",
       "2  5008806            1             1                1          112500.0   \n",
       "3  5008808            0             0                1          270000.0   \n",
       "4  5008809            0             0                1          270000.0   \n",
       "\n",
       "   FLAG_PHONE  FLAG_EMAIL  CNT_FAM_MEMBERS  STATUS_CATEGORY  \\\n",
       "0           0           0              2.0                0   \n",
       "1           0           0              2.0                0   \n",
       "2           0           0              2.0                0   \n",
       "3           1           1              1.0                1   \n",
       "4           1           1              1.0                0   \n",
       "\n",
       "   MONTHS_BALANCE_count  ...  \\\n",
       "0                    16  ...   \n",
       "1                    15  ...   \n",
       "2                    30  ...   \n",
       "3                     5  ...   \n",
       "4                     5  ...   \n",
       "\n",
       "   NAME_EDUCATION_TYPE_Secondary / secondary special  \\\n",
       "0                                              False   \n",
       "1                                              False   \n",
       "2                                               True   \n",
       "3                                               True   \n",
       "4                                               True   \n",
       "\n",
       "   NAME_FAMILY_STATUS_Married  NAME_FAMILY_STATUS_Separated  \\\n",
       "0                       False                         False   \n",
       "1                       False                         False   \n",
       "2                        True                         False   \n",
       "3                       False                         False   \n",
       "4                       False                         False   \n",
       "\n",
       "   NAME_FAMILY_STATUS_Single / not married  NAME_FAMILY_STATUS_Widow  \\\n",
       "0                                    False                     False   \n",
       "1                                    False                     False   \n",
       "2                                    False                     False   \n",
       "3                                     True                     False   \n",
       "4                                     True                     False   \n",
       "\n",
       "   NAME_HOUSING_TYPE_House / apartment  NAME_HOUSING_TYPE_Municipal apartment  \\\n",
       "0                                False                                  False   \n",
       "1                                False                                  False   \n",
       "2                                 True                                  False   \n",
       "3                                 True                                  False   \n",
       "4                                 True                                  False   \n",
       "\n",
       "   NAME_HOUSING_TYPE_Office apartment  NAME_HOUSING_TYPE_Rented apartment  \\\n",
       "0                               False                                True   \n",
       "1                               False                                True   \n",
       "2                               False                               False   \n",
       "3                               False                               False   \n",
       "4                               False                               False   \n",
       "\n",
       "   NAME_HOUSING_TYPE_With parents  \n",
       "0                           False  \n",
       "1                           False  \n",
       "2                           False  \n",
       "3                           False  \n",
       "4                           False  \n",
       "\n",
       "[5 rows x 32 columns]"
      ]
     },
     "execution_count": 29,
     "metadata": {},
     "output_type": "execute_result"
    }
   ],
   "source": [
    "# Get list of remaining categorical variables\n",
    "s = (data.dtypes == 'object')\n",
    "object_cols = list(s[s].index)\n",
    "\n",
    "data = pd.get_dummies(data, columns=object_cols, drop_first=True)  \n",
    "\n",
    "# Display the first few rows of the encoded DataFrame\n",
    "data.head()"
   ]
  },
  {
   "cell_type": "code",
   "execution_count": 30,
   "id": "2ff30c02",
   "metadata": {
    "papermill": {
     "duration": 0.037302,
     "end_time": "2024-12-02T20:48:46.168419",
     "exception": false,
     "start_time": "2024-12-02T20:48:46.131117",
     "status": "completed"
    },
    "tags": []
   },
   "outputs": [
    {
     "name": "stdout",
     "output_type": "stream",
     "text": [
      "ID                                                     int64\n",
      "CODE_GENDER                                            int64\n",
      "FLAG_OWN_CAR                                           int64\n",
      "FLAG_OWN_REALTY                                        int64\n",
      "AMT_INCOME_TOTAL                                     float64\n",
      "FLAG_PHONE                                             int64\n",
      "FLAG_EMAIL                                             int64\n",
      "CNT_FAM_MEMBERS                                      float64\n",
      "STATUS_CATEGORY                                        int64\n",
      "MONTHS_BALANCE_count                                   int64\n",
      "STATUS_CATEGORY_mean                                 float64\n",
      "STATUS_CATEGORY_max                                    int64\n",
      "STATUS_CATEGORY_sum                                    int64\n",
      "AGE                                                    int64\n",
      "EMPLOYMENT_DURATION                                    int64\n",
      "NAME_INCOME_TYPE_Pensioner                             int64\n",
      "NAME_INCOME_TYPE_State servant                         int64\n",
      "NAME_INCOME_TYPE_Student                               int64\n",
      "NAME_INCOME_TYPE_Working                               int64\n",
      "NAME_EDUCATION_TYPE_Higher education                   int64\n",
      "NAME_EDUCATION_TYPE_Incomplete higher                  int64\n",
      "NAME_EDUCATION_TYPE_Lower secondary                    int64\n",
      "NAME_EDUCATION_TYPE_Secondary / secondary special      int64\n",
      "NAME_FAMILY_STATUS_Married                             int64\n",
      "NAME_FAMILY_STATUS_Separated                           int64\n",
      "NAME_FAMILY_STATUS_Single / not married                int64\n",
      "NAME_FAMILY_STATUS_Widow                               int64\n",
      "NAME_HOUSING_TYPE_House / apartment                    int64\n",
      "NAME_HOUSING_TYPE_Municipal apartment                  int64\n",
      "NAME_HOUSING_TYPE_Office apartment                     int64\n",
      "NAME_HOUSING_TYPE_Rented apartment                     int64\n",
      "NAME_HOUSING_TYPE_With parents                         int64\n",
      "dtype: object\n"
     ]
    }
   ],
   "source": [
    "# Get boolean columns\n",
    "bool_cols = data.select_dtypes(include='bool').columns\n",
    "data[bool_cols] = data[bool_cols].astype(int)\n",
    "print(data.dtypes)"
   ]
  },
  {
   "cell_type": "markdown",
   "id": "82e2d0c3",
   "metadata": {
    "papermill": {
     "duration": 0.018457,
     "end_time": "2024-12-02T20:48:46.205480",
     "exception": false,
     "start_time": "2024-12-02T20:48:46.187023",
     "status": "completed"
    },
    "tags": []
   },
   "source": [
    "# 12. **Handling Class Imbalance with SMOTE**\r\n",
    "SMOTE is used to generate synthetic samples for the minority\r\n",
    "class.\\\r\n",
    "This helps to improve model performance by providing a more balanced dataset, allowing the model to learn better decision boundaries and reduce bias towards the majority class.\r\n"
   ]
  },
  {
   "cell_type": "code",
   "execution_count": 31,
   "id": "28696038",
   "metadata": {
    "papermill": {
     "duration": 0.374435,
     "end_time": "2024-12-02T20:48:46.598582",
     "exception": false,
     "start_time": "2024-12-02T20:48:46.224147",
     "status": "completed"
    },
    "tags": []
   },
   "outputs": [
    {
     "name": "stdout",
     "output_type": "stream",
     "text": [
      "Original class distribution:\n",
      "STATUS_CATEGORY\n",
      "0    27619\n",
      "1     8838\n",
      "Name: count, dtype: int64\n",
      "\n",
      "Resampled class distribution:\n",
      "STATUS_CATEGORY\n",
      "0    27619\n",
      "1    27619\n",
      "Name: count, dtype: int64\n"
     ]
    }
   ],
   "source": [
    "# Separate features and target variable\n",
    "X = data.drop(['STATUS_CATEGORY'], axis=1)\n",
    "y = data['STATUS_CATEGORY']\n",
    "\n",
    "# Initialize SMOTE\n",
    "smote = SMOTE(random_state=42)\n",
    "\n",
    "# Apply SMOTE to the data\n",
    "X_resampled, y_resampled = smote.fit_resample(X, y)\n",
    "\n",
    "# Display the new class distribution\n",
    "print(\"Original class distribution:\")\n",
    "print(y.value_counts())\n",
    "print(\"\\nResampled class distribution:\")\n",
    "print(y_resampled.value_counts())"
   ]
  },
  {
   "cell_type": "code",
   "execution_count": 58,
   "id": "c96df527",
   "metadata": {
    "papermill": {
     "duration": 0.029366,
     "end_time": "2024-12-02T20:48:46.647107",
     "exception": false,
     "start_time": "2024-12-02T20:48:46.617741",
     "status": "completed"
    },
    "tags": []
   },
   "outputs": [],
   "source": [
    "# Model Evaluation Function\n",
    "def model_evaluate(y_actual, y_predicted):\n",
    "\n",
    "    # Print the evaluation metrics for the dataset.\n",
    "    report = classification_report(y_actual, y_predicted, output_dict=True)\n",
    "    # print(report)\n",
    "\n",
    "    # # Compute the Confusion matrix\n",
    "    # cf_matrix = confusion_matrix(y_actual, y_predicted)\n",
    "\n",
    "    # # Get unique class labels\n",
    "    # categories = np.unique(y_actual)\n",
    "\n",
    "    # # Plot the Confusion Matrix Heatmap\n",
    "    # plt.figure(figsize=(8, 6))\n",
    "    # sns.heatmap(cf_matrix, annot=True, cmap='crest', fmt='d',\n",
    "    #             xticklabels=categories, yticklabels=categories)\n",
    "    \n",
    "\n",
    "    # # Add axis labels and title\n",
    "    # plt.xlabel(\"Predicted values\", fontdict={'size': 14}, labelpad=10)\n",
    "    # plt.ylabel(\"Actual values\", fontdict={'size': 14}, labelpad=10)\n",
    "    # plt.title(\"Confusion Matrix\", fontdict={'size': 18}, pad=20)\n",
    "    # plt.show()\n",
    "    return report\n"
   ]
  },
  {
   "cell_type": "markdown",
   "id": "8618694f",
   "metadata": {
    "papermill": {
     "duration": 0.018831,
     "end_time": "2024-12-02T20:48:46.684598",
     "exception": false,
     "start_time": "2024-12-02T20:48:46.665767",
     "status": "completed"
    },
    "tags": []
   },
   "source": [
    "# 13. **Splitting the Data into Train and Test Sets**\r\n"
   ]
  },
  {
   "cell_type": "code",
   "execution_count": 57,
   "id": "cf267e16",
   "metadata": {
    "papermill": {
     "duration": 0.050942,
     "end_time": "2024-12-02T20:48:46.754376",
     "exception": false,
     "start_time": "2024-12-02T20:48:46.703434",
     "status": "completed"
    },
    "tags": []
   },
   "outputs": [],
   "source": [
    "# Split the data into training and testing sets\n",
    "X_train, X_test, y_train, y_test = train_test_split(X_resampled, y_resampled, test_size=0.2, random_state=42)"
   ]
  },
  {
   "cell_type": "markdown",
   "id": "4a4d01d6",
   "metadata": {
    "papermill": {
     "duration": 0.018682,
     "end_time": "2024-12-02T20:48:46.792438",
     "exception": false,
     "start_time": "2024-12-02T20:48:46.773756",
     "status": "completed"
    },
    "tags": []
   },
   "source": [
    "# 14. **Model Training and Evaluation**"
   ]
  },
  {
   "cell_type": "markdown",
   "id": "1b5d9cd9",
   "metadata": {
    "papermill": {
     "duration": 0.018505,
     "end_time": "2024-12-02T20:48:46.829926",
     "exception": false,
     "start_time": "2024-12-02T20:48:46.811421",
     "status": "completed"
    },
    "tags": []
   },
   "source": [
    "# LightGBM Classifier\r\n",
    "LightGBM is a gradient boosting framework that uses tree-based learning algorithms.\r\n",
    "It's known for its efficiency and speed, especially on large datasets"
   ]
  },
  {
   "cell_type": "code",
   "execution_count": 48,
   "id": "838f7f8e-018c-4059-ae6d-78efb7a499d6",
   "metadata": {},
   "outputs": [],
   "source": [
    "import optuna\n",
    "\n",
    "# override Optuna's default logging to ERROR only\n",
    "optuna.logging.set_verbosity(optuna.logging.ERROR)\n",
    "\n",
    "# define a logging callback that will report on only new challenger parameter configurations if a\n",
    "# trial has usurped the state of 'best conditions'\n",
    "\n",
    "\n",
    "def champion_callback(study, frozen_trial):\n",
    "    \"\"\"\n",
    "    Logging callback that will report when a new trial iteration improves upon existing\n",
    "    best trial values.\n",
    "\n",
    "    Note: This callback is not intended for use in distributed computing systems such as Spark\n",
    "    or Ray due to the micro-batch iterative implementation for distributing trials to a cluster's\n",
    "    workers or agents.\n",
    "    The race conditions with file system state management for distributed trials will render\n",
    "    inconsistent values with this callback.\n",
    "    \"\"\"\n",
    "\n",
    "    winner = study.user_attrs.get(\"winner\", None)\n",
    "\n",
    "    if study.best_value and winner != study.best_value:\n",
    "        study.set_user_attr(\"winner\", study.best_value)\n",
    "        if winner:\n",
    "            improvement_percent = (abs(winner - study.best_value) / study.best_value) * 100\n",
    "            print(\n",
    "                f\"Trial {frozen_trial.number} achieved value: {frozen_trial.value} with \"\n",
    "                f\"{improvement_percent: .4f}% improvement\"\n",
    "            )\n",
    "        else:\n",
    "            print(f\"Initial trial {frozen_trial.number} achieved value: {frozen_trial.value}\")"
   ]
  },
  {
   "cell_type": "code",
   "execution_count": 60,
   "id": "47cf11c9-30de-4f56-ad91-38fb5ea0fcf8",
   "metadata": {},
   "outputs": [],
   "source": [
    "def objective_lgb(trial):\n",
    "    with mlflow.start_run(nested=True):\n",
    "        params = {\n",
    "            'objective': 'binary',\n",
    "            'class_weight':'balanced',  \n",
    "            'random_state':42,\n",
    "            'metric': 'binary_logloss',\n",
    "            'verbose':-1,\n",
    "            'lambda_l1': trial.suggest_loguniform('lambda_l1', 1e-8, 10.0),\n",
    "            'lambda_l2': trial.suggest_loguniform('lambda_l2', 1e-8, 10.0),\n",
    "            'num_leaves': trial.suggest_int('num_leaves', 2, 256),\n",
    "            'feature_fraction': trial.suggest_uniform('feature_fraction', 0.4, 1.0),\n",
    "            'bagging_fraction': trial.suggest_uniform('bagging_fraction', 0.4, 1.0),\n",
    "            'bagging_freq': trial.suggest_int('bagging_freq', 1, 7),\n",
    "            'min_child_samples': trial.suggest_int('min_child_samples', 5, 100),\n",
    "        }\n",
    "     \n",
    "        # Initialize LightGBM classifier\n",
    "        model_lgb = lgb.LGBMClassifier(**params)\n",
    "        \n",
    "        # Train the model\n",
    "        model_lgb.fit(X_train, y_train)\n",
    "        lgb_pred = model_lgb.predict(X_test)\n",
    "        # pred_labels = np.rint(lgb_pred)\n",
    "        model_report = model_evaluate(y_test,lgb_pred)\n",
    "        accuracy = model_report['accuracy']\n",
    "\n",
    "        # Log to MLflow\n",
    "        mlflow.log_params(params)\n",
    "        \n",
    "        # Log the loss metric\n",
    "        mlflow.log_metric(\"accuracy\", model_report['accuracy'])\n",
    "        mlflow.log_metric(\"recall_1\", model_report['1']['recall'])\n",
    "        mlflow.log_metric(\"precision_1\", model_report['1']['precision'])\n",
    "        mlflow.log_metric(\"f1_1\", model_report['1']['f1-score'])\n",
    "        \n",
    "        return accuracy"
   ]
  },
  {
   "cell_type": "code",
   "execution_count": 65,
   "id": "2f769a9c-4c8a-440a-a06f-9ab1bb30b93b",
   "metadata": {},
   "outputs": [],
   "source": [
    "def run_hyperparam_optimization(model_cls, model_registry_name, model_opt_fn, n_trials=10):\n",
    "    # Initiate the parent run and call the hyperparameter tuning child run logic\n",
    "    with mlflow.start_run(nested=True):\n",
    "        # Initialize the Optuna study\n",
    "        \n",
    "        study = optuna.create_study(direction='maximize')\n",
    "        \n",
    "        # Execute the hyperparameter optimization trials.\n",
    "        # Note the addition of the `champion_callback` inclusion to control our logging\n",
    "        study.optimize(model_opt_fn, n_trials=n_trials, callbacks=[champion_callback])\n",
    "    \n",
    "        print('Number of finished trials:', len(study.trials))\n",
    "        print('Best trial:', study.best_trial.params)\n",
    "    \n",
    "        mlflow.log_params(study.best_params)\n",
    "        mlflow.log_metric(\"best accuracy\", study.best_value)\n",
    "    \n",
    "        # Log tags\n",
    "        mlflow.set_tags(\n",
    "            tags={\n",
    "                \"project\": \"Credit Card Approval Prediction\",\n",
    "                \"optimizer_engine\": \"optuna\",\n",
    "                \"model_family\": \"lgbm\",\n",
    "                \"feature_set_version\": 1,\n",
    "            }\n",
    "        )\n",
    "    \n",
    "        # Log a fit model instance\n",
    "        model = model_cls(**study.best_params)\n",
    "        \n",
    "        # Train the model\n",
    "        model.fit(X_train, y_train)\n",
    "    \n",
    "        # Log the correlation plot\n",
    "        # mlflow.log_figure(figure=correlation_plot, artifact_file=\"correlation_plot.png\")\n",
    "    \n",
    "        # Log the feature importances plot\n",
    "        # importances = plot_feature_importance(model, booster=study.best_params.get(\"booster\"))\n",
    "        # mlflow.log_figure(figure=importances, artifact_file=\"feature_importances.png\")\n",
    "    \n",
    "        # Log the residuals plot\n",
    "        # residuals = plot_residuals(model, dvalid, valid_y)\n",
    "        # mlflow.log_figure(figure=residuals, artifact_file=\"residuals.png\")\n",
    "    \n",
    "        artifact_path = \"model\"\n",
    "    \n",
    "        mlflow.sklearn.log_model(\n",
    "            sk_model=model,\n",
    "            artifact_path=\"cc_approval\",\n",
    "            signature=signature,\n",
    "            input_example=X_train,\n",
    "            registered_model_name=model_registry_name,\n",
    "        )\n",
    "    \n",
    "        # Get the logged model uri so that we can load it from the artifact store\n",
    "        model_uri = mlflow.get_artifact_uri(artifact_path)\n"
   ]
  },
  {
   "cell_type": "code",
   "execution_count": 66,
   "id": "9d4cfc5c-869b-46e2-84f4-68260d74e5b7",
   "metadata": {},
   "outputs": [
    {
     "name": "stdout",
     "output_type": "stream",
     "text": [
      "🏃 View run bedecked-hound-379 at: http://127.0.0.1:8080/#/experiments/574652737040527062/runs/89811bc49b7e4028aab81b2d9c06ad1f\n",
      "🧪 View experiment at: http://127.0.0.1:8080/#/experiments/574652737040527062\n",
      "Initial trial 0 achieved value: 0.9284938450398262\n",
      "🏃 View run mercurial-foal-357 at: http://127.0.0.1:8080/#/experiments/574652737040527062/runs/ee3e83b2538f498aa07ce3e10868d22a\n",
      "🧪 View experiment at: http://127.0.0.1:8080/#/experiments/574652737040527062\n",
      "🏃 View run abrasive-sloth-54 at: http://127.0.0.1:8080/#/experiments/574652737040527062/runs/8ba3486e9c4a4e77a634352ad4e568ec\n",
      "🧪 View experiment at: http://127.0.0.1:8080/#/experiments/574652737040527062\n",
      "🏃 View run stylish-panda-622 at: http://127.0.0.1:8080/#/experiments/574652737040527062/runs/ddcf32d9695c4aa882b35105f8f1000f\n",
      "🧪 View experiment at: http://127.0.0.1:8080/#/experiments/574652737040527062\n",
      "🏃 View run gregarious-conch-160 at: http://127.0.0.1:8080/#/experiments/574652737040527062/runs/9b311da845fd400f9918313f2db5f793\n",
      "🧪 View experiment at: http://127.0.0.1:8080/#/experiments/574652737040527062\n",
      "🏃 View run polite-chimp-784 at: http://127.0.0.1:8080/#/experiments/574652737040527062/runs/a1af8066239046ef9e57f9abd9523907\n",
      "🧪 View experiment at: http://127.0.0.1:8080/#/experiments/574652737040527062\n",
      "🏃 View run sincere-hound-921 at: http://127.0.0.1:8080/#/experiments/574652737040527062/runs/a8184cb4fae1449886402e5acfbe0405\n",
      "🧪 View experiment at: http://127.0.0.1:8080/#/experiments/574652737040527062\n",
      "Trial 6 achieved value: 0.9335626357711803 with  0.5430% improvement\n",
      "🏃 View run unruly-stoat-791 at: http://127.0.0.1:8080/#/experiments/574652737040527062/runs/e9e56ef46ac54a199d211a71b28c82dd\n",
      "🧪 View experiment at: http://127.0.0.1:8080/#/experiments/574652737040527062\n",
      "Trial 7 achieved value: 0.9341962346125996 with  0.0678% improvement\n",
      "🏃 View run melodic-mole-9 at: http://127.0.0.1:8080/#/experiments/574652737040527062/runs/ab44302bf3414bf4a76fd48912a15bdf\n",
      "🧪 View experiment at: http://127.0.0.1:8080/#/experiments/574652737040527062\n",
      "🏃 View run nimble-stork-547 at: http://127.0.0.1:8080/#/experiments/574652737040527062/runs/9da1d8c60cc24028a542b6522b96b415\n",
      "🧪 View experiment at: http://127.0.0.1:8080/#/experiments/574652737040527062\n",
      "Number of finished trials: 10\n",
      "Best trial: {'lambda_l1': 0.10426643170881092, 'lambda_l2': 0.09083584711656985, 'num_leaves': 235, 'feature_fraction': 0.721374907694423, 'bagging_fraction': 0.9421951727175945, 'bagging_freq': 4, 'min_child_samples': 38}\n"
     ]
    },
    {
     "name": "stderr",
     "output_type": "stream",
     "text": [
      "Registered model 'LGBM' already exists. Creating a new version of this model...\n",
      "2024/12/15 21:16:56 INFO mlflow.store.model_registry.abstract_store: Waiting up to 300 seconds for model version to finish creation. Model name: LGBM, version 7\n"
     ]
    },
    {
     "name": "stdout",
     "output_type": "stream",
     "text": [
      "🏃 View run zealous-seal-6 at: http://127.0.0.1:8080/#/experiments/574652737040527062/runs/e1272c4363ce4fdd84a3de3b5f8be027\n",
      "🧪 View experiment at: http://127.0.0.1:8080/#/experiments/574652737040527062\n"
     ]
    },
    {
     "name": "stderr",
     "output_type": "stream",
     "text": [
      "Created version '7' of model 'LGBM'.\n"
     ]
    }
   ],
   "source": [
    "run_hyperparam_optimization(lgb.LGBMClassifier, \"LGBM\", objective_lgb, n_trials=10)\n"
   ]
  },
  {
   "cell_type": "markdown",
   "id": "c1fe8e55-5a8c-4f7f-9282-12999e547524",
   "metadata": {},
   "source": [
    "# TODO: How to run a Hyperparamter optimization and visualize the results on MLFlow"
   ]
  },
  {
   "cell_type": "markdown",
   "id": "ff7cb736",
   "metadata": {
    "papermill": {
     "duration": 0.020585,
     "end_time": "2024-12-02T20:48:48.079127",
     "exception": false,
     "start_time": "2024-12-02T20:48:48.058542",
     "status": "completed"
    },
    "tags": []
   },
   "source": [
    "# Random Forest Classifier\r\n",
    "Random Forest is an ensemble learning method that constructs multiple decision trees,during training and outputs the mode of their predictions. It's robust against overfitting\r\n",
    "and performs well on large datasets."
   ]
  },
  {
   "cell_type": "code",
   "execution_count": 69,
   "id": "027a8ed4",
   "metadata": {
    "papermill": {
     "duration": 6.472825,
     "end_time": "2024-12-02T20:48:54.572368",
     "exception": false,
     "start_time": "2024-12-02T20:48:48.099543",
     "status": "completed"
    },
    "tags": []
   },
   "outputs": [],
   "source": [
    "def objective_rf(trial):\n",
    "    with mlflow.start_run(nested=True):\n",
    "        params = {\n",
    "            'class_weight': 'balanced',\n",
    "            'random_state':42,\n",
    "        }\n",
    "     \n",
    "        # Initialize LightGBM classifier\n",
    "        model_rf = RandomForestClassifier(**params)\n",
    "        \n",
    "        # Train the model\n",
    "        model_rf.fit(X_train, y_train)\n",
    "        rf_pred = model_rf.predict(X_test)\n",
    "        # pred_labels = np.rint(lgb_pred)\n",
    "        model_report = model_evaluate(y_test, rf_pred)\n",
    "        accuracy = model_report['accuracy']\n",
    "\n",
    "        # Log to MLflow\n",
    "        mlflow.log_params(params)\n",
    "        \n",
    "        # Log the loss metric\n",
    "        mlflow.log_metric(\"accuracy\", model_report['accuracy'])\n",
    "        mlflow.log_metric(\"recall_1\", model_report['1']['recall'])\n",
    "        mlflow.log_metric(\"precision_1\", model_report['1']['precision'])\n",
    "        mlflow.log_metric(\"f1_1\", model_report['1']['f1-score'])\n",
    "        \n",
    "        return accuracy"
   ]
  },
  {
   "cell_type": "code",
   "execution_count": 70,
   "id": "137d3822-bbea-44f8-b300-4ee099a3d69d",
   "metadata": {},
   "outputs": [
    {
     "name": "stdout",
     "output_type": "stream",
     "text": [
      "🏃 View run brawny-rat-374 at: http://127.0.0.1:8080/#/experiments/574652737040527062/runs/8d0e465daaa549ba9495b9027f99d858\n",
      "🧪 View experiment at: http://127.0.0.1:8080/#/experiments/574652737040527062\n",
      "Initial trial 0 achieved value: 0.9313902968863143\n",
      "🏃 View run fearless-whale-949 at: http://127.0.0.1:8080/#/experiments/574652737040527062/runs/d24431d5a14d48f18ff255296c698e86\n",
      "🧪 View experiment at: http://127.0.0.1:8080/#/experiments/574652737040527062\n",
      "🏃 View run skittish-smelt-747 at: http://127.0.0.1:8080/#/experiments/574652737040527062/runs/c71d414e90b8405abc9264f07043751a\n",
      "🧪 View experiment at: http://127.0.0.1:8080/#/experiments/574652737040527062\n",
      "🏃 View run skillful-mule-236 at: http://127.0.0.1:8080/#/experiments/574652737040527062/runs/feeb6ac6679b445580f2c33a934b7c14\n",
      "🧪 View experiment at: http://127.0.0.1:8080/#/experiments/574652737040527062\n",
      "🏃 View run able-stoat-443 at: http://127.0.0.1:8080/#/experiments/574652737040527062/runs/b9faf0cbfb4e4ce093f34a220c0c6731\n",
      "🧪 View experiment at: http://127.0.0.1:8080/#/experiments/574652737040527062\n",
      "🏃 View run bittersweet-fowl-58 at: http://127.0.0.1:8080/#/experiments/574652737040527062/runs/b9aef34b2f6440a7ba3e001140cbf47c\n",
      "🧪 View experiment at: http://127.0.0.1:8080/#/experiments/574652737040527062\n",
      "🏃 View run able-swan-175 at: http://127.0.0.1:8080/#/experiments/574652737040527062/runs/6305819ea4cd4325bc764ea00e36bf83\n",
      "🧪 View experiment at: http://127.0.0.1:8080/#/experiments/574652737040527062\n",
      "🏃 View run gentle-mule-495 at: http://127.0.0.1:8080/#/experiments/574652737040527062/runs/43898d0dac184908b3c05c404fd53ed9\n",
      "🧪 View experiment at: http://127.0.0.1:8080/#/experiments/574652737040527062\n",
      "🏃 View run caring-yak-389 at: http://127.0.0.1:8080/#/experiments/574652737040527062/runs/4b4f14137215470797f2ba8d10a9c2e2\n",
      "🧪 View experiment at: http://127.0.0.1:8080/#/experiments/574652737040527062\n",
      "🏃 View run secretive-conch-610 at: http://127.0.0.1:8080/#/experiments/574652737040527062/runs/723b8f172292403b9d6688c341793181\n",
      "🧪 View experiment at: http://127.0.0.1:8080/#/experiments/574652737040527062\n",
      "Number of finished trials: 10\n",
      "Best trial: {}\n"
     ]
    },
    {
     "name": "stderr",
     "output_type": "stream",
     "text": [
      "Registered model 'RF' already exists. Creating a new version of this model...\n",
      "2024/12/15 21:30:16 INFO mlflow.store.model_registry.abstract_store: Waiting up to 300 seconds for model version to finish creation. Model name: RF, version 2\n"
     ]
    },
    {
     "name": "stdout",
     "output_type": "stream",
     "text": [
      "🏃 View run handsome-shrew-959 at: http://127.0.0.1:8080/#/experiments/574652737040527062/runs/3079376df3c24e1dac696720b9b55556\n",
      "🧪 View experiment at: http://127.0.0.1:8080/#/experiments/574652737040527062\n"
     ]
    },
    {
     "name": "stderr",
     "output_type": "stream",
     "text": [
      "Created version '2' of model 'RF'.\n"
     ]
    }
   ],
   "source": [
    "run_hyperparam_optimization(RandomForestClassifier, \"RF\", objective_rf, n_trials=10)\n"
   ]
  },
  {
   "cell_type": "markdown",
   "id": "8aeefa01",
   "metadata": {
    "papermill": {
     "duration": 0.019512,
     "end_time": "2024-12-02T20:48:54.611835",
     "exception": false,
     "start_time": "2024-12-02T20:48:54.592323",
     "status": "completed"
    },
    "tags": []
   },
   "source": [
    "# XGBoost Classifier\r\n",
    "XGBoost is a scalable and highly efficient implementation of gradient boosting.\r\n",
    "It provides better performance and accuracy due to its optimizations and handling of sparse data."
   ]
  },
  {
   "cell_type": "code",
   "execution_count": 71,
   "id": "a6817fa3",
   "metadata": {
    "papermill": {
     "duration": 1.185071,
     "end_time": "2024-12-02T20:48:55.816653",
     "exception": false,
     "start_time": "2024-12-02T20:48:54.631582",
     "status": "completed"
    },
    "tags": []
   },
   "outputs": [],
   "source": [
    "def objective_xg(trial):\n",
    "    with mlflow.start_run(nested=True):\n",
    "        params = {\n",
    "            'scale_pos_weight': 2,\n",
    "            'random_state':42,\n",
    "        }\n",
    "     \n",
    "        # Initialize LightGBM classifier\n",
    "        model_xg = XGBClassifier(**params)\n",
    "        \n",
    "        # Train the model\n",
    "        model_xg.fit(X_train, y_train)\n",
    "        xg_pred = model_xg.predict(X_test)\n",
    "        # pred_labels = np.rint(lgb_pred)\n",
    "        model_report = model_evaluate(y_test, xg_pred)\n",
    "        accuracy = model_report['accuracy']\n",
    "\n",
    "        # Log to MLflow\n",
    "        mlflow.log_params(params)\n",
    "        \n",
    "        # Log the loss metric\n",
    "        mlflow.log_metric(\"accuracy\", model_report['accuracy'])\n",
    "        mlflow.log_metric(\"recall_1\", model_report['1']['recall'])\n",
    "        mlflow.log_metric(\"precision_1\", model_report['1']['precision'])\n",
    "        mlflow.log_metric(\"f1_1\", model_report['1']['f1-score'])\n",
    "        \n",
    "        return accuracy"
   ]
  },
  {
   "cell_type": "code",
   "execution_count": 72,
   "id": "8d62d15b-6fbc-45eb-a9c5-95382de94a89",
   "metadata": {},
   "outputs": [
    {
     "name": "stdout",
     "output_type": "stream",
     "text": [
      "🏃 View run vaunted-moth-26 at: http://127.0.0.1:8080/#/experiments/574652737040527062/runs/db84222fb195467b88546f868b130ecf\n",
      "🧪 View experiment at: http://127.0.0.1:8080/#/experiments/574652737040527062\n",
      "Initial trial 0 achieved value: 0.9178131788559015\n",
      "🏃 View run suave-deer-624 at: http://127.0.0.1:8080/#/experiments/574652737040527062/runs/4e80fcc7402c448c8dd1de7dc374919f\n",
      "🧪 View experiment at: http://127.0.0.1:8080/#/experiments/574652737040527062\n",
      "🏃 View run shivering-ape-801 at: http://127.0.0.1:8080/#/experiments/574652737040527062/runs/3192b22b487f491590a5a16278df9c5c\n",
      "🧪 View experiment at: http://127.0.0.1:8080/#/experiments/574652737040527062\n",
      "🏃 View run amazing-crow-758 at: http://127.0.0.1:8080/#/experiments/574652737040527062/runs/af5e6bd8391749679516b6326726a049\n",
      "🧪 View experiment at: http://127.0.0.1:8080/#/experiments/574652737040527062\n",
      "🏃 View run sneaky-ant-366 at: http://127.0.0.1:8080/#/experiments/574652737040527062/runs/26484b046121413f836749280c7ad957\n",
      "🧪 View experiment at: http://127.0.0.1:8080/#/experiments/574652737040527062\n",
      "🏃 View run unequaled-sloth-884 at: http://127.0.0.1:8080/#/experiments/574652737040527062/runs/5f2d93923677406a9b0b4ccfb81a29c9\n",
      "🧪 View experiment at: http://127.0.0.1:8080/#/experiments/574652737040527062\n",
      "🏃 View run grandiose-worm-711 at: http://127.0.0.1:8080/#/experiments/574652737040527062/runs/d8a3a76946c8452599b1a63832daed43\n",
      "🧪 View experiment at: http://127.0.0.1:8080/#/experiments/574652737040527062\n",
      "🏃 View run whimsical-ape-778 at: http://127.0.0.1:8080/#/experiments/574652737040527062/runs/fbd19eb14c1340a89358df9f86d9e61b\n",
      "🧪 View experiment at: http://127.0.0.1:8080/#/experiments/574652737040527062\n",
      "🏃 View run debonair-hare-22 at: http://127.0.0.1:8080/#/experiments/574652737040527062/runs/3ce9e52ab32448e98f5ead554026ce2c\n",
      "🧪 View experiment at: http://127.0.0.1:8080/#/experiments/574652737040527062\n",
      "🏃 View run unequaled-hound-276 at: http://127.0.0.1:8080/#/experiments/574652737040527062/runs/8db904e4f04449ad9e379cf160bc9499\n",
      "🧪 View experiment at: http://127.0.0.1:8080/#/experiments/574652737040527062\n",
      "Number of finished trials: 10\n",
      "Best trial: {}\n"
     ]
    },
    {
     "name": "stderr",
     "output_type": "stream",
     "text": [
      "Successfully registered model 'XG'.\n",
      "2024/12/15 21:30:46 INFO mlflow.store.model_registry.abstract_store: Waiting up to 300 seconds for model version to finish creation. Model name: XG, version 1\n"
     ]
    },
    {
     "name": "stdout",
     "output_type": "stream",
     "text": [
      "🏃 View run skittish-goose-471 at: http://127.0.0.1:8080/#/experiments/574652737040527062/runs/3b41ade3a0ce4a9a9377ae38eac1b2e8\n",
      "🧪 View experiment at: http://127.0.0.1:8080/#/experiments/574652737040527062\n"
     ]
    },
    {
     "name": "stderr",
     "output_type": "stream",
     "text": [
      "Created version '1' of model 'XG'.\n"
     ]
    }
   ],
   "source": [
    "run_hyperparam_optimization(XGBClassifier, \"XG\", objective_xg, n_trials=10)"
   ]
  },
  {
   "cell_type": "markdown",
   "id": "ebdfb05c",
   "metadata": {
    "papermill": {
     "duration": 0.020957,
     "end_time": "2024-12-02T20:48:55.858860",
     "exception": false,
     "start_time": "2024-12-02T20:48:55.837903",
     "status": "completed"
    },
    "tags": []
   },
   "source": [
    "# AdaBoost Classifier\r\n",
    "AdaBoost combines multiple weak classifiers to create a strong classifier.It adjusts the weights of misclassified samples, focusing on difficult cases to improve accuracy."
   ]
  },
  {
   "cell_type": "code",
   "execution_count": 73,
   "id": "81b1b884-535a-4c3b-b140-a09af410278a",
   "metadata": {},
   "outputs": [],
   "source": [
    "def objective_ada(trial):\n",
    "    with mlflow.start_run(nested=True):\n",
    "        params = {\n",
    "            'n_estimators': 5000,\n",
    "        }\n",
    "     \n",
    "        # Initialize LightGBM classifier\n",
    "        model_ada = AdaBoostClassifier(**params)\n",
    "        \n",
    "        # Train the model\n",
    "        model_ada.fit(X_train, y_train)\n",
    "        ada_pred = model_ada.predict(X_test)\n",
    "        # pred_labels = np.rint(lgb_pred)\n",
    "        model_report = model_evaluate(y_test, ada_pred)\n",
    "        accuracy = model_report['accuracy']\n",
    "\n",
    "        # Log to MLflow\n",
    "        mlflow.log_params(params)\n",
    "        \n",
    "        # Log the loss metric\n",
    "        mlflow.log_metric(\"accuracy\", model_report['accuracy'])\n",
    "        mlflow.log_metric(\"recall_1\", model_report['1']['recall'])\n",
    "        mlflow.log_metric(\"precision_1\", model_report['1']['precision'])\n",
    "        mlflow.log_metric(\"f1_1\", model_report['1']['f1-score'])\n",
    "        \n",
    "        return accuracy"
   ]
  },
  {
   "cell_type": "code",
   "execution_count": 74,
   "id": "610dece0-52ac-4b8f-8fc2-a6e3727e717f",
   "metadata": {},
   "outputs": [
    {
     "name": "stdout",
     "output_type": "stream",
     "text": [
      "🏃 View run unique-penguin-910 at: http://127.0.0.1:8080/#/experiments/574652737040527062/runs/2ca68c98156144cc9413107b9b3daac3\n",
      "🧪 View experiment at: http://127.0.0.1:8080/#/experiments/574652737040527062\n",
      "Initial trial 0 achieved value: 0.8897538015930485\n",
      "🏃 View run kindly-penguin-101 at: http://127.0.0.1:8080/#/experiments/574652737040527062/runs/e79e186ba96e4093bbb5b470d9bf9519\n",
      "🧪 View experiment at: http://127.0.0.1:8080/#/experiments/574652737040527062\n",
      "🏃 View run defiant-goose-271 at: http://127.0.0.1:8080/#/experiments/574652737040527062/runs/66be49766036479cae432a6522357e89\n",
      "🧪 View experiment at: http://127.0.0.1:8080/#/experiments/574652737040527062\n",
      "🏃 View run treasured-owl-494 at: http://127.0.0.1:8080/#/experiments/574652737040527062/runs/516bf38d0efd44279e0872d99a94b676\n",
      "🧪 View experiment at: http://127.0.0.1:8080/#/experiments/574652737040527062\n",
      "🏃 View run unruly-zebra-401 at: http://127.0.0.1:8080/#/experiments/574652737040527062/runs/b62f4c7e028d4df48443c0acf077b54c\n",
      "🧪 View experiment at: http://127.0.0.1:8080/#/experiments/574652737040527062\n",
      "🏃 View run trusting-koi-220 at: http://127.0.0.1:8080/#/experiments/574652737040527062/runs/cc8513f553b342fba0c06c4859577e12\n",
      "🧪 View experiment at: http://127.0.0.1:8080/#/experiments/574652737040527062\n",
      "🏃 View run unequaled-crane-223 at: http://127.0.0.1:8080/#/experiments/574652737040527062/runs/be5b6a5646d14f54947454124ecb29c2\n",
      "🧪 View experiment at: http://127.0.0.1:8080/#/experiments/574652737040527062\n",
      "🏃 View run placid-moth-216 at: http://127.0.0.1:8080/#/experiments/574652737040527062/runs/fad0b9f82ef2426a9a89c5d07935234a\n",
      "🧪 View experiment at: http://127.0.0.1:8080/#/experiments/574652737040527062\n",
      "🏃 View run bemused-flea-764 at: http://127.0.0.1:8080/#/experiments/574652737040527062/runs/40861fa5265b43528b4fa00e3326ca4c\n",
      "🧪 View experiment at: http://127.0.0.1:8080/#/experiments/574652737040527062\n",
      "🏃 View run marvelous-frog-339 at: http://127.0.0.1:8080/#/experiments/574652737040527062/runs/7b1e655a9d2746d69ccb7351191a7dfa\n",
      "🧪 View experiment at: http://127.0.0.1:8080/#/experiments/574652737040527062\n",
      "Number of finished trials: 10\n",
      "Best trial: {}\n"
     ]
    },
    {
     "name": "stderr",
     "output_type": "stream",
     "text": [
      "Successfully registered model 'ADA'.\n",
      "2024/12/15 21:52:34 INFO mlflow.store.model_registry.abstract_store: Waiting up to 300 seconds for model version to finish creation. Model name: ADA, version 1\n"
     ]
    },
    {
     "name": "stdout",
     "output_type": "stream",
     "text": [
      "🏃 View run charming-cod-95 at: http://127.0.0.1:8080/#/experiments/574652737040527062/runs/c20780c9907c4c41a416ca75a957cd39\n",
      "🧪 View experiment at: http://127.0.0.1:8080/#/experiments/574652737040527062\n"
     ]
    },
    {
     "name": "stderr",
     "output_type": "stream",
     "text": [
      "Created version '1' of model 'ADA'.\n"
     ]
    }
   ],
   "source": [
    "run_hyperparam_optimization(AdaBoostClassifier, \"ADA\", objective_ada, n_trials=10)"
   ]
  },
  {
   "cell_type": "markdown",
   "id": "3491bfc9",
   "metadata": {
    "papermill": {
     "duration": 0.021328,
     "end_time": "2024-12-02T20:49:19.825570",
     "exception": false,
     "start_time": "2024-12-02T20:49:19.804242",
     "status": "completed"
    },
    "tags": []
   },
   "source": [
    "# Naive Bayes Classifier\r\n",
    "Naive Bayes is a simple probabilistic classifier based on Bayes' theorem. It's effective for high-dimensional data and works well for text classification and other applications.\r\n",
    "\r\n",
    "\r\n"
   ]
  },
  {
   "cell_type": "code",
   "execution_count": 77,
   "id": "ddbc808e",
   "metadata": {
    "papermill": {
     "duration": 0.349643,
     "end_time": "2024-12-02T20:49:20.196740",
     "exception": false,
     "start_time": "2024-12-02T20:49:19.847097",
     "status": "completed"
    },
    "tags": []
   },
   "outputs": [],
   "source": [
    "def objective_nb(trial):\n",
    "    with mlflow.start_run(nested=True):\n",
    "        params = {\n",
    "            # 'n_estimators': 5000,\n",
    "        }\n",
    "     \n",
    "        # Initialize LightGBM classifier\n",
    "        nb_model = GaussianNB(**params)\n",
    "        \n",
    "        # Train the model\n",
    "        nb_model.fit(X_train, y_train)\n",
    "        nb_pred = nb_model.predict(X_test)\n",
    "        # pred_labels = np.rint(lgb_pred)\n",
    "        model_report = model_evaluate(y_test, nb_pred)\n",
    "        accuracy = model_report['accuracy']\n",
    "\n",
    "        # Log to MLflow\n",
    "        mlflow.log_params(params)\n",
    "        \n",
    "        # Log the loss metric\n",
    "        mlflow.log_metric(\"accuracy\", model_report['accuracy'])\n",
    "        mlflow.log_metric(\"recall_1\", model_report['1']['recall'])\n",
    "        mlflow.log_metric(\"precision_1\", model_report['1']['precision'])\n",
    "        mlflow.log_metric(\"f1_1\", model_report['1']['f1-score'])\n",
    "        \n",
    "        return accuracy"
   ]
  },
  {
   "cell_type": "code",
   "execution_count": 78,
   "id": "484ba244-816b-41dc-84cd-15f499ccc247",
   "metadata": {},
   "outputs": [
    {
     "name": "stdout",
     "output_type": "stream",
     "text": [
      "🏃 View run angry-toad-453 at: http://127.0.0.1:8080/#/experiments/574652737040527062/runs/73ecc9a8c9fe4e4ab39c50532b27f1e5\n",
      "🧪 View experiment at: http://127.0.0.1:8080/#/experiments/574652737040527062\n",
      "Initial trial 0 achieved value: 0.7423062997827661\n",
      "🏃 View run colorful-sponge-780 at: http://127.0.0.1:8080/#/experiments/574652737040527062/runs/626d5b87d5c74b5fb4cb7c26e314b2a7\n",
      "🧪 View experiment at: http://127.0.0.1:8080/#/experiments/574652737040527062\n",
      "🏃 View run respected-mink-785 at: http://127.0.0.1:8080/#/experiments/574652737040527062/runs/d70deacb9071454b97158af6c3e60dae\n",
      "🧪 View experiment at: http://127.0.0.1:8080/#/experiments/574652737040527062\n",
      "🏃 View run rogue-lynx-515 at: http://127.0.0.1:8080/#/experiments/574652737040527062/runs/670bb033dafa4c3c85c4e56453c3dc9e\n",
      "🧪 View experiment at: http://127.0.0.1:8080/#/experiments/574652737040527062\n",
      "🏃 View run stately-colt-599 at: http://127.0.0.1:8080/#/experiments/574652737040527062/runs/b7032837ded84cb0b9d6e39bada54578\n",
      "🧪 View experiment at: http://127.0.0.1:8080/#/experiments/574652737040527062\n",
      "🏃 View run welcoming-toad-853 at: http://127.0.0.1:8080/#/experiments/574652737040527062/runs/ebed3f749c384c3186a3118bf69a4f88\n",
      "🧪 View experiment at: http://127.0.0.1:8080/#/experiments/574652737040527062\n",
      "🏃 View run gregarious-midge-362 at: http://127.0.0.1:8080/#/experiments/574652737040527062/runs/328c59a0796544ffa20e7d83f9044b82\n",
      "🧪 View experiment at: http://127.0.0.1:8080/#/experiments/574652737040527062\n",
      "🏃 View run hilarious-grouse-443 at: http://127.0.0.1:8080/#/experiments/574652737040527062/runs/89e03592bdae429386e2a69ed0b95680\n",
      "🧪 View experiment at: http://127.0.0.1:8080/#/experiments/574652737040527062\n",
      "🏃 View run sincere-rat-190 at: http://127.0.0.1:8080/#/experiments/574652737040527062/runs/cc0f757cafe244b78498ac383d8300b2\n",
      "🧪 View experiment at: http://127.0.0.1:8080/#/experiments/574652737040527062\n",
      "🏃 View run sincere-grub-17 at: http://127.0.0.1:8080/#/experiments/574652737040527062/runs/124716594a7c4447aa28532c1ae9c291\n",
      "🧪 View experiment at: http://127.0.0.1:8080/#/experiments/574652737040527062\n",
      "Number of finished trials: 10\n",
      "Best trial: {}\n"
     ]
    },
    {
     "name": "stderr",
     "output_type": "stream",
     "text": [
      "Successfully registered model 'NB'.\n",
      "2024/12/15 23:33:56 INFO mlflow.store.model_registry.abstract_store: Waiting up to 300 seconds for model version to finish creation. Model name: NB, version 1\n"
     ]
    },
    {
     "name": "stdout",
     "output_type": "stream",
     "text": [
      "🏃 View run rebellious-mink-554 at: http://127.0.0.1:8080/#/experiments/574652737040527062/runs/63c66b103a5244dcaad345e5bd95f269\n",
      "🧪 View experiment at: http://127.0.0.1:8080/#/experiments/574652737040527062\n"
     ]
    },
    {
     "name": "stderr",
     "output_type": "stream",
     "text": [
      "Created version '1' of model 'NB'.\n"
     ]
    }
   ],
   "source": [
    "run_hyperparam_optimization(GaussianNB, \"NB\", objective_nb, n_trials=10)"
   ]
  },
  {
   "cell_type": "markdown",
   "id": "76c24b51",
   "metadata": {
    "papermill": {
     "duration": 0.02195,
     "end_time": "2024-12-02T20:49:20.240788",
     "exception": false,
     "start_time": "2024-12-02T20:49:20.218838",
     "status": "completed"
    },
    "tags": []
   },
   "source": [
    "# 15. Best Model"
   ]
  },
  {
   "cell_type": "code",
   "execution_count": 39,
   "id": "9b92dda7",
   "metadata": {
    "papermill": {
     "duration": 1.146202,
     "end_time": "2024-12-02T20:49:21.409184",
     "exception": false,
     "start_time": "2024-12-02T20:49:20.262982",
     "status": "completed"
    },
    "tags": []
   },
   "outputs": [
    {
     "data": {
      "text/html": [
       "<div>\n",
       "<style scoped>\n",
       "    .dataframe tbody tr th:only-of-type {\n",
       "        vertical-align: middle;\n",
       "    }\n",
       "\n",
       "    .dataframe tbody tr th {\n",
       "        vertical-align: top;\n",
       "    }\n",
       "\n",
       "    .dataframe thead th {\n",
       "        text-align: right;\n",
       "    }\n",
       "</style>\n",
       "<table border=\"1\" class=\"dataframe\">\n",
       "  <thead>\n",
       "    <tr style=\"text-align: right;\">\n",
       "      <th></th>\n",
       "      <th>Model</th>\n",
       "      <th>Test Accuracy</th>\n",
       "    </tr>\n",
       "  </thead>\n",
       "  <tbody>\n",
       "    <tr>\n",
       "      <th>0</th>\n",
       "      <td>LightGBM</td>\n",
       "      <td>0.915912</td>\n",
       "    </tr>\n",
       "    <tr>\n",
       "      <th>1</th>\n",
       "      <td>Random Forest</td>\n",
       "      <td>0.931390</td>\n",
       "    </tr>\n",
       "    <tr>\n",
       "      <th>2</th>\n",
       "      <td>XGBoost</td>\n",
       "      <td>0.917813</td>\n",
       "    </tr>\n",
       "    <tr>\n",
       "      <th>3</th>\n",
       "      <td>AdaBoost</td>\n",
       "      <td>0.877896</td>\n",
       "    </tr>\n",
       "    <tr>\n",
       "      <th>4</th>\n",
       "      <td>Naive Bayes</td>\n",
       "      <td>0.742306</td>\n",
       "    </tr>\n",
       "  </tbody>\n",
       "</table>\n",
       "</div>"
      ],
      "text/plain": [
       "           Model  Test Accuracy\n",
       "0       LightGBM       0.915912\n",
       "1  Random Forest       0.931390\n",
       "2        XGBoost       0.917813\n",
       "3       AdaBoost       0.877896\n",
       "4    Naive Bayes       0.742306"
      ]
     },
     "metadata": {},
     "output_type": "display_data"
    }
   ],
   "source": [
    "results = pd.DataFrame({\n",
    "    'Model': ['LightGBM', 'Random Forest', 'XGBoost', 'AdaBoost', 'Naive Bayes'],\n",
    "    'Test Accuracy': [model_lgb.score(X_test, y_test), rf_model.score(X_test, y_test), \n",
    "                      model_xg.score(X_test, y_test), ada_model.score(X_test, y_test), \n",
    "                      nb_model.score(X_test, y_test)]\n",
    "})\n",
    "display(results)\n"
   ]
  },
  {
   "cell_type": "markdown",
   "id": "929a9931",
   "metadata": {
    "papermill": {
     "duration": 0.021758,
     "end_time": "2024-12-02T20:49:21.453158",
     "exception": false,
     "start_time": "2024-12-02T20:49:21.431400",
     "status": "completed"
    },
    "tags": []
   },
   "source": [
    "### This shows that **Random Forest** is the model with the best accuracy."
   ]
  },
  {
   "cell_type": "code",
   "execution_count": 40,
   "id": "cdff1f7a",
   "metadata": {
    "papermill": {
     "duration": 0.50416,
     "end_time": "2024-12-02T20:49:21.979700",
     "exception": false,
     "start_time": "2024-12-02T20:49:21.475540",
     "status": "completed"
    },
    "tags": []
   },
   "outputs": [
    {
     "data": {
      "image/png": "[encoded data removed]",
      "text/plain": [
       "<Figure size 640x480 with 1 Axes>"
      ]
     },
     "metadata": {},
     "output_type": "display_data"
    }
   ],
   "source": [
    "from sklearn.metrics import roc_curve, auc\n",
    "\n",
    "y_proba = rf_model.predict_proba(X_test)[:, 1]\n",
    "fpr, tpr, thresholds = roc_curve(y_test, y_proba, pos_label=1)\n",
    "roc_auc = auc(fpr, tpr)\n",
    "\n",
    "plt.figure()\n",
    "plt.plot(fpr, tpr, color='darkorange', lw=2, label='ROC curve (area = %0.2f)' % roc_auc)\n",
    "plt.plot([0, 1], [0, 1], color='navy', lw=2, linestyle='--')\n",
    "plt.title('ROC Curve')\n",
    "plt.legend(loc=\"lower right\")\n",
    "plt.show()\n"
   ]
  },
  {
   "cell_type": "markdown",
   "id": "62bf1296",
   "metadata": {
    "papermill": {
     "duration": 0.02243,
     "end_time": "2024-12-02T20:49:22.025592",
     "exception": false,
     "start_time": "2024-12-02T20:49:22.003162",
     "status": "completed"
    },
    "tags": []
   },
   "source": [
    "High Accuracy: The high AUC indicates that the model has a high accuracy in predicting the true class labels.\\\n",
    "Good Balance: The curve's shape suggests a good balance between sensitivity and specificity, making the model suitable for various applications.\\\n",
    "Robustness: The model's performance is robust to different threshold settings."
   ]
  },
  {
   "cell_type": "markdown",
   "id": "c5c8693a-500b-44d3-8e75-5766e7673684",
   "metadata": {},
   "source": [
    "# 16. Store best model in MLFLow"
   ]
  },
  {
   "cell_type": "code",
   "execution_count": null,
   "id": "c44b617c-3bf6-4cd2-adba-0f0127542df3",
   "metadata": {},
   "outputs": [],
   "source": []
  }
 ],
 "metadata": {
  "kaggle": {
   "accelerator": "none",
   "dataSources": [
    {
     "datasetId": 6192264,
     "sourceId": 10050242,
     "sourceType": "datasetVersion"
    }
   ],
   "dockerImageVersionId": 30786,
   "isGpuEnabled": false,
   "isInternetEnabled": true,
   "language": "python",
   "sourceType": "notebook"
  },
  "kernelspec": {
   "display_name": "Python 3 (ipykernel)",
   "language": "python",
   "name": "python3"
  },
  "language_info": {
   "codemirror_mode": {
    "name": "ipython",
    "version": 3
   },
   "file_extension": ".py",
   "mimetype": "text/x-python",
   "name": "python",
   "nbconvert_exporter": "python",
   "pygments_lexer": "ipython3",
   "version": "3.12.7"
  },
  "papermill": {
   "default_parameters": {},
   "duration": 53.364226,
   "end_time": "2024-12-02T20:49:22.971553",
   "environment_variables": {},
   "exception": null,
   "input_path": "__notebook__.ipynb",
   "output_path": "__notebook__.ipynb",
   "parameters": {},
   "start_time": "2024-12-02T20:48:29.607327",
   "version": "2.6.0"
  }
 },
 "nbformat": 4,
 "nbformat_minor": 5
}
